{
 "cells": [
  {
   "cell_type": "code",
   "execution_count": 1,
   "metadata": {},
   "outputs": [],
   "source": [
    "import pandas as pd\n",
    "import numpy as np\n",
    "import matplotlib.pyplot as plt\n",
    "import seaborn as sns\n",
    "import math\n",
    "import plotly.express as px"
   ]
  },
  {
   "cell_type": "code",
   "execution_count": 2,
   "metadata": {},
   "outputs": [],
   "source": [
    "from tqdm import tqdm"
   ]
  },
  {
   "cell_type": "code",
   "execution_count": 3,
   "metadata": {},
   "outputs": [],
   "source": [
    "column_names = [\n",
    "    \"track_id\",         # Track ID\n",
    "    \"race_date\",        # Race Date\n",
    "    \"race_number\",      # Race Number\n",
    "    \"program_number\",   # Program Number\n",
    "    \"weight_carried\",   # Weight Carried\n",
    "    \"jockey\",           # Jockey Name\n",
    "    \"odds\",             # Odds\n",
    "    \"position_at_finish\"# Finish Position\n",
    "]\n",
    "\n",
    "df_start = pd.read_csv(\"big-data-derby-2022\\\\nyra_start_table.csv\", header=None, names=column_names)\n",
    "df_race = pd.read_csv('big-data-derby-2022\\\\nyra_race_table.csv')"
   ]
  },
  {
   "cell_type": "code",
   "execution_count": 4,
   "metadata": {},
   "outputs": [
    {
     "data": {
      "text/html": [
       "<div>\n",
       "<style scoped>\n",
       "    .dataframe tbody tr th:only-of-type {\n",
       "        vertical-align: middle;\n",
       "    }\n",
       "\n",
       "    .dataframe tbody tr th {\n",
       "        vertical-align: top;\n",
       "    }\n",
       "\n",
       "    .dataframe thead th {\n",
       "        text-align: right;\n",
       "    }\n",
       "</style>\n",
       "<table border=\"1\" class=\"dataframe\">\n",
       "  <thead>\n",
       "    <tr style=\"text-align: right;\">\n",
       "      <th></th>\n",
       "      <th>track_id</th>\n",
       "      <th>race_date</th>\n",
       "      <th>race_number</th>\n",
       "      <th>program_number</th>\n",
       "      <th>weight_carried</th>\n",
       "      <th>jockey</th>\n",
       "      <th>odds</th>\n",
       "      <th>position_at_finish</th>\n",
       "    </tr>\n",
       "  </thead>\n",
       "  <tbody>\n",
       "    <tr>\n",
       "      <th>0</th>\n",
       "      <td>AQU</td>\n",
       "      <td>2019-01-01</td>\n",
       "      <td>1</td>\n",
       "      <td>1</td>\n",
       "      <td>123</td>\n",
       "      <td>Dylan Davis</td>\n",
       "      <td>130</td>\n",
       "      <td>2</td>\n",
       "    </tr>\n",
       "    <tr>\n",
       "      <th>1</th>\n",
       "      <td>AQU</td>\n",
       "      <td>2019-01-01</td>\n",
       "      <td>1</td>\n",
       "      <td>2</td>\n",
       "      <td>120</td>\n",
       "      <td>Junior Alvarado</td>\n",
       "      <td>295</td>\n",
       "      <td>3</td>\n",
       "    </tr>\n",
       "    <tr>\n",
       "      <th>2</th>\n",
       "      <td>AQU</td>\n",
       "      <td>2019-01-01</td>\n",
       "      <td>1</td>\n",
       "      <td>3</td>\n",
       "      <td>118</td>\n",
       "      <td>Jose Lezcano</td>\n",
       "      <td>180</td>\n",
       "      <td>4</td>\n",
       "    </tr>\n",
       "    <tr>\n",
       "      <th>3</th>\n",
       "      <td>AQU</td>\n",
       "      <td>2019-01-01</td>\n",
       "      <td>1</td>\n",
       "      <td>4</td>\n",
       "      <td>123</td>\n",
       "      <td>Jomar Garcia</td>\n",
       "      <td>1280</td>\n",
       "      <td>5</td>\n",
       "    </tr>\n",
       "    <tr>\n",
       "      <th>4</th>\n",
       "      <td>AQU</td>\n",
       "      <td>2019-01-01</td>\n",
       "      <td>1</td>\n",
       "      <td>5</td>\n",
       "      <td>118</td>\n",
       "      <td>Manuel Franco</td>\n",
       "      <td>1150</td>\n",
       "      <td>1</td>\n",
       "    </tr>\n",
       "  </tbody>\n",
       "</table>\n",
       "</div>"
      ],
      "text/plain": [
       "  track_id   race_date  race_number program_number  weight_carried  \\\n",
       "0      AQU  2019-01-01            1            1               123   \n",
       "1      AQU  2019-01-01            1            2               120   \n",
       "2      AQU  2019-01-01            1            3               118   \n",
       "3      AQU  2019-01-01            1            4               123   \n",
       "4      AQU  2019-01-01            1            5               118   \n",
       "\n",
       "            jockey  odds  position_at_finish  \n",
       "0      Dylan Davis   130                   2  \n",
       "1  Junior Alvarado   295                   3  \n",
       "2     Jose Lezcano   180                   4  \n",
       "3     Jomar Garcia  1280                   5  \n",
       "4    Manuel Franco  1150                   1  "
      ]
     },
     "execution_count": 4,
     "metadata": {},
     "output_type": "execute_result"
    }
   ],
   "source": [
    "df_start.head()"
   ]
  },
  {
   "cell_type": "code",
   "execution_count": 8,
   "metadata": {},
   "outputs": [
    {
     "name": "stderr",
     "output_type": "stream",
     "text": [
      "c:\\Users\\Jayesh\\AppData\\Local\\Programs\\Python\\Python39\\lib\\site-packages\\seaborn\\_oldcore.py:1119: FutureWarning: use_inf_as_na option is deprecated and will be removed in a future version. Convert inf values to NaN before operating instead.\n",
      "  with pd.option_context('mode.use_inf_as_na', True):\n"
     ]
    },
    {
     "data": {
      "text/plain": [
       "Text(0.5, 1.0, 'Odds Distribution')"
      ]
     },
     "execution_count": 8,
     "metadata": {},
     "output_type": "execute_result"
    },
    {
     "data": {
      "image/png": "[encoded data removed]",
      "text/plain": [
       "<Figure size 1000x600 with 1 Axes>"
      ]
     },
     "metadata": {},
     "output_type": "display_data"
    }
   ],
   "source": [
    "# plot odds distribution\n",
    "plt.figure(figsize=(10, 6))\n",
    "sns.histplot(df_start['odds'], bins=100, kde=True, binrange=(0, 3000))\n",
    "# set x-axis limit\n",
    "plt.xlim(0, 3000)\n",
    "plt.title('Odds Distribution')"
   ]
  },
  {
   "cell_type": "code",
   "execution_count": 5,
   "metadata": {},
   "outputs": [],
   "source": [
    "# add unique_id \n",
    "df_race['unique_id'] = df_race[\"track_id\"] + \"_\" + df_race[\"race_date\"] + \"_\" + df_race[\"race_number\"].astype(str)\n",
    "df_start['unique_id'] = df_start[\"track_id\"] + \"_\" + df_start['race_date'] + \"_\" + df_start['race_number'].astype(str)"
   ]
  },
  {
   "cell_type": "code",
   "execution_count": 6,
   "metadata": {},
   "outputs": [],
   "source": [
    "df_start_1 = df_start[df_start['unique_id'] == 'SAR_2019-08-01_2']"
   ]
  },
  {
   "cell_type": "code",
   "execution_count": 7,
   "metadata": {},
   "outputs": [
    {
     "name": "stderr",
     "output_type": "stream",
     "text": [
      "C:\\Users\\Jayesh\\AppData\\Local\\Temp\\ipykernel_18880\\2900706681.py:2: SettingWithCopyWarning: \n",
      "A value is trying to be set on a copy of a slice from a DataFrame.\n",
      "Try using .loc[row_indexer,col_indexer] = value instead\n",
      "\n",
      "See the caveats in the documentation: https://pandas.pydata.org/pandas-docs/stable/user_guide/indexing.html#returning-a-view-versus-a-copy\n",
      "  df_start_1['probability'] = 100 / (df_start_1['odds'] + 100)\n"
     ]
    }
   ],
   "source": [
    "# calculate probability using odds\n",
    "df_start_1['probability'] = 100 / (df_start_1['odds'] + 100)"
   ]
  },
  {
   "cell_type": "code",
   "execution_count": 11,
   "metadata": {},
   "outputs": [
    {
     "data": {
      "text/html": [
       "<div>\n",
       "<style scoped>\n",
       "    .dataframe tbody tr th:only-of-type {\n",
       "        vertical-align: middle;\n",
       "    }\n",
       "\n",
       "    .dataframe tbody tr th {\n",
       "        vertical-align: top;\n",
       "    }\n",
       "\n",
       "    .dataframe thead th {\n",
       "        text-align: right;\n",
       "    }\n",
       "</style>\n",
       "<table border=\"1\" class=\"dataframe\">\n",
       "  <thead>\n",
       "    <tr style=\"text-align: right;\">\n",
       "      <th></th>\n",
       "      <th>track_id</th>\n",
       "      <th>race_date</th>\n",
       "      <th>race_number</th>\n",
       "      <th>program_number</th>\n",
       "      <th>weight_carried</th>\n",
       "      <th>jockey</th>\n",
       "      <th>odds</th>\n",
       "      <th>position_at_finish</th>\n",
       "      <th>unique_id</th>\n",
       "      <th>probability</th>\n",
       "    </tr>\n",
       "  </thead>\n",
       "  <tbody>\n",
       "    <tr>\n",
       "      <th>12856</th>\n",
       "      <td>SAR</td>\n",
       "      <td>2019-08-01</td>\n",
       "      <td>2</td>\n",
       "      <td>1</td>\n",
       "      <td>118</td>\n",
       "      <td>Irad Ortiz Jr.</td>\n",
       "      <td>330</td>\n",
       "      <td>6</td>\n",
       "      <td>SAR_2019-08-01_2</td>\n",
       "      <td>0.161777</td>\n",
       "    </tr>\n",
       "    <tr>\n",
       "      <th>12857</th>\n",
       "      <td>SAR</td>\n",
       "      <td>2019-08-01</td>\n",
       "      <td>2</td>\n",
       "      <td>1A</td>\n",
       "      <td>124</td>\n",
       "      <td>Luis Saez</td>\n",
       "      <td>330</td>\n",
       "      <td>2</td>\n",
       "      <td>SAR_2019-08-01_2</td>\n",
       "      <td>0.161777</td>\n",
       "    </tr>\n",
       "    <tr>\n",
       "      <th>12858</th>\n",
       "      <td>SAR</td>\n",
       "      <td>2019-08-01</td>\n",
       "      <td>2</td>\n",
       "      <td>2</td>\n",
       "      <td>122</td>\n",
       "      <td>Eric Cancel</td>\n",
       "      <td>720</td>\n",
       "      <td>3</td>\n",
       "      <td>SAR_2019-08-01_2</td>\n",
       "      <td>0.084834</td>\n",
       "    </tr>\n",
       "    <tr>\n",
       "      <th>12859</th>\n",
       "      <td>SAR</td>\n",
       "      <td>2019-08-01</td>\n",
       "      <td>2</td>\n",
       "      <td>3</td>\n",
       "      <td>124</td>\n",
       "      <td>Chris Landeros</td>\n",
       "      <td>1240</td>\n",
       "      <td>4</td>\n",
       "      <td>SAR_2019-08-01_2</td>\n",
       "      <td>0.051914</td>\n",
       "    </tr>\n",
       "    <tr>\n",
       "      <th>12860</th>\n",
       "      <td>SAR</td>\n",
       "      <td>2019-08-01</td>\n",
       "      <td>2</td>\n",
       "      <td>4</td>\n",
       "      <td>124</td>\n",
       "      <td>Jose Lezcano</td>\n",
       "      <td>35</td>\n",
       "      <td>1</td>\n",
       "      <td>SAR_2019-08-01_2</td>\n",
       "      <td>0.515290</td>\n",
       "    </tr>\n",
       "  </tbody>\n",
       "</table>\n",
       "</div>"
      ],
      "text/plain": [
       "      track_id   race_date  race_number program_number  weight_carried  \\\n",
       "12856      SAR  2019-08-01            2            1               118   \n",
       "12857      SAR  2019-08-01            2            1A              124   \n",
       "12858      SAR  2019-08-01            2            2               122   \n",
       "12859      SAR  2019-08-01            2            3               124   \n",
       "12860      SAR  2019-08-01            2            4               124   \n",
       "\n",
       "               jockey  odds  position_at_finish         unique_id  probability  \n",
       "12856  Irad Ortiz Jr.   330                   6  SAR_2019-08-01_2     0.161777  \n",
       "12857       Luis Saez   330                   2  SAR_2019-08-01_2     0.161777  \n",
       "12858     Eric Cancel   720                   3  SAR_2019-08-01_2     0.084834  \n",
       "12859  Chris Landeros  1240                   4  SAR_2019-08-01_2     0.051914  \n",
       "12860    Jose Lezcano    35                   1  SAR_2019-08-01_2     0.515290  "
      ]
     },
     "execution_count": 11,
     "metadata": {},
     "output_type": "execute_result"
    }
   ],
   "source": [
    "df_start_1.head()"
   ]
  },
  {
   "cell_type": "code",
   "execution_count": 10,
   "metadata": {},
   "outputs": [
    {
     "name": "stderr",
     "output_type": "stream",
     "text": [
      "C:\\Users\\Jayesh\\AppData\\Local\\Temp\\ipykernel_18880\\1628559942.py:2: SettingWithCopyWarning: \n",
      "A value is trying to be set on a copy of a slice from a DataFrame.\n",
      "Try using .loc[row_indexer,col_indexer] = value instead\n",
      "\n",
      "See the caveats in the documentation: https://pandas.pydata.org/pandas-docs/stable/user_guide/indexing.html#returning-a-view-versus-a-copy\n",
      "  df_start_1['probability'] = df_start_1['probability'] / sum_probability\n"
     ]
    }
   ],
   "source": [
    "sum_probability = df_start_1['probability'].sum()\n",
    "df_start_1['probability'] = df_start_1['probability'] / sum_probability"
   ]
  },
  {
   "cell_type": "code",
   "execution_count": 8,
   "metadata": {},
   "outputs": [],
   "source": [
    "track_ids = df_start['unique_id'].unique()"
   ]
  },
  {
   "cell_type": "code",
   "execution_count": 9,
   "metadata": {},
   "outputs": [],
   "source": [
    "for track_id in track_ids:\n",
    "    # Create a copy of the subset DataFrame\n",
    "    df_start_1 = df_start[df_start['unique_id'] == track_id].copy()\n",
    "    \n",
    "    # Calculate probabilities\n",
    "    df_start_1['probability'] = 100 / (df_start_1['odds'] + 100)\n",
    "    sum_probability = df_start_1['probability'].sum()\n",
    "    df_start_1['probability'] = df_start_1['probability'] / sum_probability\n",
    "    \n",
    "    # Update the original DataFrame with the modified subset\n",
    "    df_start.loc[df_start['unique_id'] == track_id, 'probability'] = df_start_1['probability']\n"
   ]
  },
  {
   "cell_type": "code",
   "execution_count": 26,
   "metadata": {},
   "outputs": [
    {
     "data": {
      "text/html": [
       "<div>\n",
       "<style scoped>\n",
       "    .dataframe tbody tr th:only-of-type {\n",
       "        vertical-align: middle;\n",
       "    }\n",
       "\n",
       "    .dataframe tbody tr th {\n",
       "        vertical-align: top;\n",
       "    }\n",
       "\n",
       "    .dataframe thead th {\n",
       "        text-align: right;\n",
       "    }\n",
       "</style>\n",
       "<table border=\"1\" class=\"dataframe\">\n",
       "  <thead>\n",
       "    <tr style=\"text-align: right;\">\n",
       "      <th></th>\n",
       "      <th>track_id</th>\n",
       "      <th>race_date</th>\n",
       "      <th>race_number</th>\n",
       "      <th>program_number</th>\n",
       "      <th>weight_carried</th>\n",
       "      <th>jockey</th>\n",
       "      <th>odds</th>\n",
       "      <th>position_at_finish</th>\n",
       "      <th>unique_id</th>\n",
       "      <th>probability</th>\n",
       "    </tr>\n",
       "  </thead>\n",
       "  <tbody>\n",
       "    <tr>\n",
       "      <th>0</th>\n",
       "      <td>AQU</td>\n",
       "      <td>2019-01-01</td>\n",
       "      <td>1</td>\n",
       "      <td>1</td>\n",
       "      <td>123</td>\n",
       "      <td>Dylan Davis</td>\n",
       "      <td>130</td>\n",
       "      <td>2</td>\n",
       "      <td>AQU_2019-01-01_1</td>\n",
       "      <td>0.363059</td>\n",
       "    </tr>\n",
       "    <tr>\n",
       "      <th>1</th>\n",
       "      <td>AQU</td>\n",
       "      <td>2019-01-01</td>\n",
       "      <td>1</td>\n",
       "      <td>2</td>\n",
       "      <td>120</td>\n",
       "      <td>Junior Alvarado</td>\n",
       "      <td>295</td>\n",
       "      <td>3</td>\n",
       "      <td>AQU_2019-01-01_1</td>\n",
       "      <td>0.211401</td>\n",
       "    </tr>\n",
       "    <tr>\n",
       "      <th>2</th>\n",
       "      <td>AQU</td>\n",
       "      <td>2019-01-01</td>\n",
       "      <td>1</td>\n",
       "      <td>3</td>\n",
       "      <td>118</td>\n",
       "      <td>Jose Lezcano</td>\n",
       "      <td>180</td>\n",
       "      <td>4</td>\n",
       "      <td>AQU_2019-01-01_1</td>\n",
       "      <td>0.298227</td>\n",
       "    </tr>\n",
       "    <tr>\n",
       "      <th>3</th>\n",
       "      <td>AQU</td>\n",
       "      <td>2019-01-01</td>\n",
       "      <td>1</td>\n",
       "      <td>4</td>\n",
       "      <td>123</td>\n",
       "      <td>Jomar Garcia</td>\n",
       "      <td>1280</td>\n",
       "      <td>5</td>\n",
       "      <td>AQU_2019-01-01_1</td>\n",
       "      <td>0.060510</td>\n",
       "    </tr>\n",
       "    <tr>\n",
       "      <th>4</th>\n",
       "      <td>AQU</td>\n",
       "      <td>2019-01-01</td>\n",
       "      <td>1</td>\n",
       "      <td>5</td>\n",
       "      <td>118</td>\n",
       "      <td>Manuel Franco</td>\n",
       "      <td>1150</td>\n",
       "      <td>1</td>\n",
       "      <td>AQU_2019-01-01_1</td>\n",
       "      <td>0.066803</td>\n",
       "    </tr>\n",
       "  </tbody>\n",
       "</table>\n",
       "</div>"
      ],
      "text/plain": [
       "  track_id   race_date  race_number program_number  weight_carried  \\\n",
       "0      AQU  2019-01-01            1            1               123   \n",
       "1      AQU  2019-01-01            1            2               120   \n",
       "2      AQU  2019-01-01            1            3               118   \n",
       "3      AQU  2019-01-01            1            4               123   \n",
       "4      AQU  2019-01-01            1            5               118   \n",
       "\n",
       "            jockey  odds  position_at_finish         unique_id  probability  \n",
       "0      Dylan Davis   130                   2  AQU_2019-01-01_1     0.363059  \n",
       "1  Junior Alvarado   295                   3  AQU_2019-01-01_1     0.211401  \n",
       "2     Jose Lezcano   180                   4  AQU_2019-01-01_1     0.298227  \n",
       "3     Jomar Garcia  1280                   5  AQU_2019-01-01_1     0.060510  \n",
       "4    Manuel Franco  1150                   1  AQU_2019-01-01_1     0.066803  "
      ]
     },
     "execution_count": 26,
     "metadata": {},
     "output_type": "execute_result"
    }
   ],
   "source": [
    "df_start.head()"
   ]
  },
  {
   "cell_type": "code",
   "execution_count": 10,
   "metadata": {},
   "outputs": [],
   "source": [
    "track_geometry_path = \"my-data\\\\track-geometry\\\\\""
   ]
  },
  {
   "cell_type": "code",
   "execution_count": 46,
   "metadata": {},
   "outputs": [],
   "source": [
    "# Function to calculate angles between consecutive vectors\n",
    "def calculate_angle(v1, v2):\n",
    "    # Normalize vectors\n",
    "    v1 = v1 / np.linalg.norm(v1)\n",
    "    v2 = v2 / np.linalg.norm(v2)\n",
    "    # Dot product and arccos to calculate angle (in radians)\n",
    "    dot_product = np.dot(v1, v2)\n",
    "    angle = np.arccos(np.clip(dot_product, -1.0, 1.0))  # Clip for numerical stability\n",
    "    return np.degrees(angle)  # Convert to degrees\n",
    "\n",
    "def generate_angles(track_geometry):\n",
    "    # Add angle calculation to the dataframe\n",
    "    angles = []\n",
    "    for i in range(1, len(track_geometry)):\n",
    "        v1 = np.array([track_geometry.loc[i - 1, 'perp_x'], track_geometry.loc[i - 1, 'perp_y']])\n",
    "        v2 = np.array([track_geometry.loc[i, 'perp_x'], track_geometry.loc[i, 'perp_y']])\n",
    "        angle = calculate_angle(v1, v2)\n",
    "        angles.append(angle)\n",
    "\n",
    "    angles.insert(0, 0)  # First row has no angle (NaN equivalent)\n",
    "    track_geometry['angle_change'] = angles\n",
    "    return track_geometry\n",
    "\n",
    "def generate_angles_fourth_index(track_geometry):\n",
    "    angles = []\n",
    "    \n",
    "    for i in range(len(track_geometry)):\n",
    "        if i + 4 < len(track_geometry):\n",
    "            v1 = np.array([track_geometry.loc[i, 'perp_x'], track_geometry.loc[i, 'perp_y']])\n",
    "            v2 = np.array([track_geometry.loc[i + 4, 'perp_x'], track_geometry.loc[i + 4, 'perp_y']])\n",
    "            angle = calculate_angle(v1, v2)\n",
    "        else:\n",
    "            angle = 0\n",
    "        angles.append(angle)\n",
    "    \n",
    "    track_geometry['angle_change_fourth'] = angles\n",
    "    return track_geometry\n",
    "\n",
    "def generate_transition_indices(track_geometry, start_threshold=1.4, end_threshold=0.8):\n",
    "    in_transition = False\n",
    "    transition_indices = []\n",
    "    for i in range(15, len(track_geometry) - 15):\n",
    "        angle = track_geometry['angle_change'][i]\n",
    "\n",
    "        if angle > start_threshold and not in_transition:\n",
    "            # Transition starts\n",
    "            in_transition = True\n",
    "            transition_indices.append(i)  # Mark start of transition\n",
    "\n",
    "        elif angle < end_threshold and in_transition:\n",
    "            if len(transition_indices) > 0 and i - transition_indices[-1] < 10:\n",
    "                transition_indices.pop()\n",
    "                in_transition = False\n",
    "            # Transition ends\n",
    "            in_transition = False\n",
    "            transition_indices.append(i)  # Mark end of transition\n",
    "    if len(transition_indices) % 2 != 0:\n",
    "        transition_indices.pop()\n",
    "    return transition_indices"
   ]
  },
  {
   "cell_type": "code",
   "execution_count": 47,
   "metadata": {},
   "outputs": [
    {
     "name": "stderr",
     "output_type": "stream",
     "text": [
      "100%|██████████| 2000/2000 [00:10<00:00, 188.84it/s]\n"
     ]
    }
   ],
   "source": [
    "\n",
    "transition_indices = {}\n",
    "for track_id in tqdm(track_ids):\n",
    "    try:\n",
    "        track_geometry = pd.read_csv(track_geometry_path + track_id + \".csv\")\n",
    "        # track_geometry = generate_angles_fourth_index(track_geometry)\n",
    "        transition_index = generate_transition_indices(track_geometry)\n",
    "        transition_indices[track_id] = transition_index \n",
    "    except FileNotFoundError:\n",
    "        pass"
   ]
  },
  {
   "cell_type": "code",
   "execution_count": 35,
   "metadata": {},
   "outputs": [
    {
     "data": {
      "text/html": [
       "<div>\n",
       "<style scoped>\n",
       "    .dataframe tbody tr th:only-of-type {\n",
       "        vertical-align: middle;\n",
       "    }\n",
       "\n",
       "    .dataframe tbody tr th {\n",
       "        vertical-align: top;\n",
       "    }\n",
       "\n",
       "    .dataframe thead th {\n",
       "        text-align: right;\n",
       "    }\n",
       "</style>\n",
       "<table border=\"1\" class=\"dataframe\">\n",
       "  <thead>\n",
       "    <tr style=\"text-align: right;\">\n",
       "      <th></th>\n",
       "      <th>mid_easting</th>\n",
       "      <th>mid_northing</th>\n",
       "      <th>perp_x</th>\n",
       "      <th>perp_y</th>\n",
       "      <th>angle_change</th>\n",
       "      <th>cumulative_distance</th>\n",
       "      <th>A</th>\n",
       "      <th>B</th>\n",
       "      <th>C</th>\n",
       "      <th>angle_change_fourth</th>\n",
       "    </tr>\n",
       "  </thead>\n",
       "  <tbody>\n",
       "    <tr>\n",
       "      <th>0</th>\n",
       "      <td>0.000000</td>\n",
       "      <td>0.000000e+00</td>\n",
       "      <td>0.938810</td>\n",
       "      <td>-0.344435</td>\n",
       "      <td>0.000000</td>\n",
       "      <td>0.000000</td>\n",
       "      <td>-0.344435</td>\n",
       "      <td>-0.938810</td>\n",
       "      <td>4.433684e+06</td>\n",
       "      <td>0.768496</td>\n",
       "    </tr>\n",
       "    <tr>\n",
       "      <th>1</th>\n",
       "      <td>598731.374414</td>\n",
       "      <td>4.502997e+06</td>\n",
       "      <td>0.938810</td>\n",
       "      <td>-0.344435</td>\n",
       "      <td>0.000000</td>\n",
       "      <td>1.142726</td>\n",
       "      <td>-0.344435</td>\n",
       "      <td>-0.938810</td>\n",
       "      <td>4.433683e+06</td>\n",
       "      <td>1.037768</td>\n",
       "    </tr>\n",
       "    <tr>\n",
       "      <th>2</th>\n",
       "      <td>598730.868203</td>\n",
       "      <td>4.502995e+06</td>\n",
       "      <td>0.940335</td>\n",
       "      <td>-0.340250</td>\n",
       "      <td>0.255234</td>\n",
       "      <td>2.622773</td>\n",
       "      <td>-0.340250</td>\n",
       "      <td>-0.940335</td>\n",
       "      <td>4.438042e+06</td>\n",
       "      <td>1.079919</td>\n",
       "    </tr>\n",
       "    <tr>\n",
       "      <th>3</th>\n",
       "      <td>598730.240579</td>\n",
       "      <td>4.502993e+06</td>\n",
       "      <td>0.940953</td>\n",
       "      <td>-0.338537</td>\n",
       "      <td>0.104297</td>\n",
       "      <td>4.472387</td>\n",
       "      <td>-0.338537</td>\n",
       "      <td>-0.940953</td>\n",
       "      <td>4.439797e+06</td>\n",
       "      <td>1.374943</td>\n",
       "    </tr>\n",
       "    <tr>\n",
       "      <th>4</th>\n",
       "      <td>598729.529824</td>\n",
       "      <td>4.502991e+06</td>\n",
       "      <td>0.943345</td>\n",
       "      <td>-0.331813</td>\n",
       "      <td>0.408966</td>\n",
       "      <td>6.594215</td>\n",
       "      <td>-0.331813</td>\n",
       "      <td>-0.943345</td>\n",
       "      <td>4.446542e+06</td>\n",
       "      <td>1.134451</td>\n",
       "    </tr>\n",
       "  </tbody>\n",
       "</table>\n",
       "</div>"
      ],
      "text/plain": [
       "     mid_easting  mid_northing    perp_x    perp_y  angle_change  \\\n",
       "0       0.000000  0.000000e+00  0.938810 -0.344435      0.000000   \n",
       "1  598731.374414  4.502997e+06  0.938810 -0.344435      0.000000   \n",
       "2  598730.868203  4.502995e+06  0.940335 -0.340250      0.255234   \n",
       "3  598730.240579  4.502993e+06  0.940953 -0.338537      0.104297   \n",
       "4  598729.529824  4.502991e+06  0.943345 -0.331813      0.408966   \n",
       "\n",
       "   cumulative_distance         A         B             C  angle_change_fourth  \n",
       "0             0.000000 -0.344435 -0.938810  4.433684e+06             0.768496  \n",
       "1             1.142726 -0.344435 -0.938810  4.433683e+06             1.037768  \n",
       "2             2.622773 -0.340250 -0.940335  4.438042e+06             1.079919  \n",
       "3             4.472387 -0.338537 -0.940953  4.439797e+06             1.374943  \n",
       "4             6.594215 -0.331813 -0.943345  4.446542e+06             1.134451  "
      ]
     },
     "execution_count": 35,
     "metadata": {},
     "output_type": "execute_result"
    }
   ],
   "source": [
    "track_geometry = pd.read_csv(track_geometry_path + \"AQU_2019-01-01_4.csv\")\n",
    "track_geometry = generate_angles_fourth_index(track_geometry)\n",
    "track_geometry.head()"
   ]
  },
  {
   "cell_type": "code",
   "execution_count": 36,
   "metadata": {},
   "outputs": [
    {
     "name": "stderr",
     "output_type": "stream",
     "text": [
      "c:\\Users\\Jayesh\\AppData\\Local\\Programs\\Python\\Python39\\lib\\site-packages\\seaborn\\_oldcore.py:1119: FutureWarning: use_inf_as_na option is deprecated and will be removed in a future version. Convert inf values to NaN before operating instead.\n",
      "  with pd.option_context('mode.use_inf_as_na', True):\n"
     ]
    },
    {
     "data": {
      "image/png": "[encoded data removed]",
      "text/plain": [
       "<Figure size 1000x600 with 1 Axes>"
      ]
     },
     "metadata": {},
     "output_type": "display_data"
    }
   ],
   "source": [
    "# plot angle change fourth\n",
    "plt.figure(figsize=(10, 6))\n",
    "sns.histplot(track_geometry['angle_change'], bins=100, kde=True)\n",
    "plt.title('Angle Change Fourth Distribution')\n",
    "plt.show()"
   ]
  },
  {
   "cell_type": "code",
   "execution_count": 25,
   "metadata": {},
   "outputs": [
    {
     "data": {
      "text/plain": [
       "1994"
      ]
     },
     "execution_count": 25,
     "metadata": {},
     "output_type": "execute_result"
    }
   ],
   "source": [
    "len(transition_indices)"
   ]
  },
  {
   "cell_type": "code",
   "execution_count": 55,
   "metadata": {},
   "outputs": [],
   "source": [
    "horse_tracking_path = \"my-data\\\\horse-tracking-data-features\\\\\"\n",
    "# load one sample \n",
    "df_horse_tracking = pd.read_csv(horse_tracking_path + \"AQU_2019-01-01_1.csv\")"
   ]
  },
  {
   "cell_type": "code",
   "execution_count": null,
   "metadata": {},
   "outputs": [],
   "source": [
    "transition_indices"
   ]
  },
  {
   "cell_type": "code",
   "execution_count": 40,
   "metadata": {},
   "outputs": [],
   "source": [
    "plots_path = \"my-data\\\\track-geometries-plot\\\\\""
   ]
  },
  {
   "cell_type": "code",
   "execution_count": 60,
   "metadata": {},
   "outputs": [],
   "source": [
    "df_tg = pd.read_csv(track_geometry_path + \"AQU_2019-01-01_1.csv\")"
   ]
  },
  {
   "cell_type": "code",
   "execution_count": 61,
   "metadata": {},
   "outputs": [
    {
     "data": {
      "text/html": [
       "<div>\n",
       "<style scoped>\n",
       "    .dataframe tbody tr th:only-of-type {\n",
       "        vertical-align: middle;\n",
       "    }\n",
       "\n",
       "    .dataframe tbody tr th {\n",
       "        vertical-align: top;\n",
       "    }\n",
       "\n",
       "    .dataframe thead th {\n",
       "        text-align: right;\n",
       "    }\n",
       "</style>\n",
       "<table border=\"1\" class=\"dataframe\">\n",
       "  <thead>\n",
       "    <tr style=\"text-align: right;\">\n",
       "      <th></th>\n",
       "      <th>mid_easting</th>\n",
       "      <th>mid_northing</th>\n",
       "      <th>perp_x</th>\n",
       "      <th>perp_y</th>\n",
       "      <th>angle_change</th>\n",
       "      <th>cumulative_distance</th>\n",
       "      <th>A</th>\n",
       "      <th>B</th>\n",
       "      <th>C</th>\n",
       "    </tr>\n",
       "  </thead>\n",
       "  <tbody>\n",
       "    <tr>\n",
       "      <th>0</th>\n",
       "      <td>0.000000</td>\n",
       "      <td>0.000000e+00</td>\n",
       "      <td>-0.919017</td>\n",
       "      <td>0.394219</td>\n",
       "      <td>0.000000</td>\n",
       "      <td>0.000000</td>\n",
       "      <td>0.394219</td>\n",
       "      <td>0.919017</td>\n",
       "      <td>-4.374192e+06</td>\n",
       "    </tr>\n",
       "    <tr>\n",
       "      <th>1</th>\n",
       "      <td>598959.889140</td>\n",
       "      <td>4.502718e+06</td>\n",
       "      <td>-0.919017</td>\n",
       "      <td>0.394219</td>\n",
       "      <td>0.000000</td>\n",
       "      <td>1.613380</td>\n",
       "      <td>0.394219</td>\n",
       "      <td>0.919017</td>\n",
       "      <td>-4.374194e+06</td>\n",
       "    </tr>\n",
       "    <tr>\n",
       "      <th>2</th>\n",
       "      <td>598960.093042</td>\n",
       "      <td>4.502718e+06</td>\n",
       "      <td>-0.933056</td>\n",
       "      <td>0.359731</td>\n",
       "      <td>2.133587</td>\n",
       "      <td>2.158074</td>\n",
       "      <td>0.359731</td>\n",
       "      <td>0.933056</td>\n",
       "      <td>-4.416753e+06</td>\n",
       "    </tr>\n",
       "    <tr>\n",
       "      <th>3</th>\n",
       "      <td>598960.349906</td>\n",
       "      <td>4.502719e+06</td>\n",
       "      <td>-0.943286</td>\n",
       "      <td>0.331980</td>\n",
       "      <td>1.694672</td>\n",
       "      <td>2.905398</td>\n",
       "      <td>0.331980</td>\n",
       "      <td>0.943286</td>\n",
       "      <td>-4.446197e+06</td>\n",
       "    </tr>\n",
       "    <tr>\n",
       "      <th>4</th>\n",
       "      <td>598960.695687</td>\n",
       "      <td>4.502720e+06</td>\n",
       "      <td>-0.947615</td>\n",
       "      <td>0.319416</td>\n",
       "      <td>0.761401</td>\n",
       "      <td>3.970907</td>\n",
       "      <td>0.319416</td>\n",
       "      <td>0.947615</td>\n",
       "      <td>-4.458161e+06</td>\n",
       "    </tr>\n",
       "  </tbody>\n",
       "</table>\n",
       "</div>"
      ],
      "text/plain": [
       "     mid_easting  mid_northing    perp_x    perp_y  angle_change  \\\n",
       "0       0.000000  0.000000e+00 -0.919017  0.394219      0.000000   \n",
       "1  598959.889140  4.502718e+06 -0.919017  0.394219      0.000000   \n",
       "2  598960.093042  4.502718e+06 -0.933056  0.359731      2.133587   \n",
       "3  598960.349906  4.502719e+06 -0.943286  0.331980      1.694672   \n",
       "4  598960.695687  4.502720e+06 -0.947615  0.319416      0.761401   \n",
       "\n",
       "   cumulative_distance         A         B             C  \n",
       "0             0.000000  0.394219  0.919017 -4.374192e+06  \n",
       "1             1.613380  0.394219  0.919017 -4.374194e+06  \n",
       "2             2.158074  0.359731  0.933056 -4.416753e+06  \n",
       "3             2.905398  0.331980  0.943286 -4.446197e+06  \n",
       "4             3.970907  0.319416  0.947615 -4.458161e+06  "
      ]
     },
     "execution_count": 61,
     "metadata": {},
     "output_type": "execute_result"
    }
   ],
   "source": [
    "df_tg.head()"
   ]
  },
  {
   "cell_type": "code",
   "execution_count": 46,
   "metadata": {},
   "outputs": [
    {
     "data": {
      "text/html": [
       "<div>\n",
       "<style scoped>\n",
       "    .dataframe tbody tr th:only-of-type {\n",
       "        vertical-align: middle;\n",
       "    }\n",
       "\n",
       "    .dataframe tbody tr th {\n",
       "        vertical-align: top;\n",
       "    }\n",
       "\n",
       "    .dataframe thead th {\n",
       "        text-align: right;\n",
       "    }\n",
       "</style>\n",
       "<table border=\"1\" class=\"dataframe\">\n",
       "  <thead>\n",
       "    <tr style=\"text-align: right;\">\n",
       "      <th></th>\n",
       "      <th>mid_easting</th>\n",
       "      <th>mid_northing</th>\n",
       "      <th>perp_x</th>\n",
       "      <th>perp_y</th>\n",
       "      <th>angle_change</th>\n",
       "      <th>cumulative_distance</th>\n",
       "      <th>A</th>\n",
       "      <th>B</th>\n",
       "      <th>C</th>\n",
       "    </tr>\n",
       "  </thead>\n",
       "  <tbody>\n",
       "    <tr>\n",
       "      <th>0</th>\n",
       "      <td>0.000000</td>\n",
       "      <td>0.000000e+00</td>\n",
       "      <td>-0.919017</td>\n",
       "      <td>0.394219</td>\n",
       "      <td>0.000000</td>\n",
       "      <td>0.000000</td>\n",
       "      <td>0.394219</td>\n",
       "      <td>0.919017</td>\n",
       "      <td>-4.374192e+06</td>\n",
       "    </tr>\n",
       "    <tr>\n",
       "      <th>1</th>\n",
       "      <td>598959.889140</td>\n",
       "      <td>4.502718e+06</td>\n",
       "      <td>-0.919017</td>\n",
       "      <td>0.394219</td>\n",
       "      <td>0.000000</td>\n",
       "      <td>1.613380</td>\n",
       "      <td>0.394219</td>\n",
       "      <td>0.919017</td>\n",
       "      <td>-4.374194e+06</td>\n",
       "    </tr>\n",
       "    <tr>\n",
       "      <th>2</th>\n",
       "      <td>598960.093042</td>\n",
       "      <td>4.502718e+06</td>\n",
       "      <td>-0.933056</td>\n",
       "      <td>0.359731</td>\n",
       "      <td>2.133587</td>\n",
       "      <td>2.158074</td>\n",
       "      <td>0.359731</td>\n",
       "      <td>0.933056</td>\n",
       "      <td>-4.416753e+06</td>\n",
       "    </tr>\n",
       "    <tr>\n",
       "      <th>3</th>\n",
       "      <td>598960.349906</td>\n",
       "      <td>4.502719e+06</td>\n",
       "      <td>-0.943286</td>\n",
       "      <td>0.331980</td>\n",
       "      <td>1.694672</td>\n",
       "      <td>2.905398</td>\n",
       "      <td>0.331980</td>\n",
       "      <td>0.943286</td>\n",
       "      <td>-4.446197e+06</td>\n",
       "    </tr>\n",
       "    <tr>\n",
       "      <th>4</th>\n",
       "      <td>598960.695687</td>\n",
       "      <td>4.502720e+06</td>\n",
       "      <td>-0.947615</td>\n",
       "      <td>0.319416</td>\n",
       "      <td>0.761401</td>\n",
       "      <td>3.970907</td>\n",
       "      <td>0.319416</td>\n",
       "      <td>0.947615</td>\n",
       "      <td>-4.458161e+06</td>\n",
       "    </tr>\n",
       "  </tbody>\n",
       "</table>\n",
       "</div>"
      ],
      "text/plain": [
       "     mid_easting  mid_northing    perp_x    perp_y  angle_change  \\\n",
       "0       0.000000  0.000000e+00 -0.919017  0.394219      0.000000   \n",
       "1  598959.889140  4.502718e+06 -0.919017  0.394219      0.000000   \n",
       "2  598960.093042  4.502718e+06 -0.933056  0.359731      2.133587   \n",
       "3  598960.349906  4.502719e+06 -0.943286  0.331980      1.694672   \n",
       "4  598960.695687  4.502720e+06 -0.947615  0.319416      0.761401   \n",
       "\n",
       "   cumulative_distance         A         B             C  \n",
       "0             0.000000  0.394219  0.919017 -4.374192e+06  \n",
       "1             1.613380  0.394219  0.919017 -4.374194e+06  \n",
       "2             2.158074  0.359731  0.933056 -4.416753e+06  \n",
       "3             2.905398  0.331980  0.943286 -4.446197e+06  \n",
       "4             3.970907  0.319416  0.947615 -4.458161e+06  "
      ]
     },
     "execution_count": 46,
     "metadata": {},
     "output_type": "execute_result"
    }
   ],
   "source": [
    "df_tg.head()"
   ]
  },
  {
   "cell_type": "code",
   "execution_count": 20,
   "metadata": {},
   "outputs": [],
   "source": [
    "def generate_plot_geometry(track_id, transition_indices):\n",
    "    # Visualization\n",
    "    track_geometry = pd.read_csv(track_geometry_path + track_id + \".csv\")\n",
    "    # remove the first row\n",
    "    track_geometry = track_geometry.iloc[1:]\n",
    "    plt.figure(figsize=(10, 8))\n",
    "    plt.scatter(track_geometry['mid_easting'], track_geometry['mid_northing'], color='blue', label='Midpoints')\n",
    "    scale_factor = 50\n",
    "    for index, row in track_geometry.iterrows():\n",
    "        mid_x = row['mid_easting']\n",
    "        mid_y = row['mid_northing']\n",
    "        perp_x = row['perp_x']\n",
    "        perp_y = row['perp_y']\n",
    "        x_start = mid_x - (scale_factor * perp_x)\n",
    "        x_end = mid_x + (scale_factor * perp_x)\n",
    "        y_start = mid_y - (scale_factor * perp_y)\n",
    "        y_end = mid_y + (scale_factor * perp_y)\n",
    "        if index in transition_indices:  # Highlight transition lines\n",
    "            plt.plot([x_start, x_end], [y_start, y_end], color='green', linewidth=2, label='Transition' if index == transition_indices[0] else \"\")\n",
    "        else:\n",
    "            plt.plot([x_start, x_end], [y_start, y_end], color='red', linewidth=1)\n",
    "\n",
    "    # Add labels and legend\n",
    "    plt.xlabel('Easting')\n",
    "    plt.ylabel('Northing')\n",
    "    plt.title('Track with Highlighted Transition Points')\n",
    "    plt.legend()\n",
    "    plt.grid(True)\n",
    "    plt.axis('equal')\n",
    "    plt.savefig(plots_path + track_id + \".png\")\n",
    "    # clear the plot\n",
    "    plt.close()"
   ]
  },
  {
   "cell_type": "code",
   "execution_count": null,
   "metadata": {},
   "outputs": [],
   "source": [
    "# save plots\n",
    "for track_id, transition_index in tqdm(transition_indices.items()):\n",
    "    generate_plot_geometry(track_id, transition_index)"
   ]
  },
  {
   "cell_type": "code",
   "execution_count": 50,
   "metadata": {},
   "outputs": [],
   "source": [
    "import pickle"
   ]
  },
  {
   "cell_type": "code",
   "execution_count": 51,
   "metadata": {},
   "outputs": [],
   "source": [
    "# save transition indices to file\n",
    "with open('my-data\\\\transition_indices.pkl', 'wb') as f:\n",
    "    pickle.dump(transition_indices, f)"
   ]
  },
  {
   "cell_type": "code",
   "execution_count": 52,
   "metadata": {},
   "outputs": [],
   "source": [
    "# "
   ]
  },
  {
   "cell_type": "code",
   "execution_count": 53,
   "metadata": {},
   "outputs": [
    {
     "data": {
      "text/html": [
       "<div>\n",
       "<style scoped>\n",
       "    .dataframe tbody tr th:only-of-type {\n",
       "        vertical-align: middle;\n",
       "    }\n",
       "\n",
       "    .dataframe tbody tr th {\n",
       "        vertical-align: top;\n",
       "    }\n",
       "\n",
       "    .dataframe thead th {\n",
       "        text-align: right;\n",
       "    }\n",
       "</style>\n",
       "<table border=\"1\" class=\"dataframe\">\n",
       "  <thead>\n",
       "    <tr style=\"text-align: right;\">\n",
       "      <th></th>\n",
       "      <th>track_id</th>\n",
       "      <th>race_date</th>\n",
       "      <th>race_number</th>\n",
       "      <th>program_number</th>\n",
       "      <th>weight_carried</th>\n",
       "      <th>jockey</th>\n",
       "      <th>odds</th>\n",
       "      <th>position_at_finish</th>\n",
       "      <th>unique_id</th>\n",
       "      <th>probability</th>\n",
       "    </tr>\n",
       "  </thead>\n",
       "  <tbody>\n",
       "    <tr>\n",
       "      <th>0</th>\n",
       "      <td>AQU</td>\n",
       "      <td>2019-01-01</td>\n",
       "      <td>1</td>\n",
       "      <td>1</td>\n",
       "      <td>123</td>\n",
       "      <td>Dylan Davis</td>\n",
       "      <td>130</td>\n",
       "      <td>2</td>\n",
       "      <td>AQU_2019-01-01_1</td>\n",
       "      <td>0.363059</td>\n",
       "    </tr>\n",
       "    <tr>\n",
       "      <th>1</th>\n",
       "      <td>AQU</td>\n",
       "      <td>2019-01-01</td>\n",
       "      <td>1</td>\n",
       "      <td>2</td>\n",
       "      <td>120</td>\n",
       "      <td>Junior Alvarado</td>\n",
       "      <td>295</td>\n",
       "      <td>3</td>\n",
       "      <td>AQU_2019-01-01_1</td>\n",
       "      <td>0.211401</td>\n",
       "    </tr>\n",
       "    <tr>\n",
       "      <th>2</th>\n",
       "      <td>AQU</td>\n",
       "      <td>2019-01-01</td>\n",
       "      <td>1</td>\n",
       "      <td>3</td>\n",
       "      <td>118</td>\n",
       "      <td>Jose Lezcano</td>\n",
       "      <td>180</td>\n",
       "      <td>4</td>\n",
       "      <td>AQU_2019-01-01_1</td>\n",
       "      <td>0.298227</td>\n",
       "    </tr>\n",
       "    <tr>\n",
       "      <th>3</th>\n",
       "      <td>AQU</td>\n",
       "      <td>2019-01-01</td>\n",
       "      <td>1</td>\n",
       "      <td>4</td>\n",
       "      <td>123</td>\n",
       "      <td>Jomar Garcia</td>\n",
       "      <td>1280</td>\n",
       "      <td>5</td>\n",
       "      <td>AQU_2019-01-01_1</td>\n",
       "      <td>0.060510</td>\n",
       "    </tr>\n",
       "    <tr>\n",
       "      <th>4</th>\n",
       "      <td>AQU</td>\n",
       "      <td>2019-01-01</td>\n",
       "      <td>1</td>\n",
       "      <td>5</td>\n",
       "      <td>118</td>\n",
       "      <td>Manuel Franco</td>\n",
       "      <td>1150</td>\n",
       "      <td>1</td>\n",
       "      <td>AQU_2019-01-01_1</td>\n",
       "      <td>0.066803</td>\n",
       "    </tr>\n",
       "  </tbody>\n",
       "</table>\n",
       "</div>"
      ],
      "text/plain": [
       "  track_id   race_date  race_number program_number  weight_carried  \\\n",
       "0      AQU  2019-01-01            1            1               123   \n",
       "1      AQU  2019-01-01            1            2               120   \n",
       "2      AQU  2019-01-01            1            3               118   \n",
       "3      AQU  2019-01-01            1            4               123   \n",
       "4      AQU  2019-01-01            1            5               118   \n",
       "\n",
       "            jockey  odds  position_at_finish         unique_id  probability  \n",
       "0      Dylan Davis   130                   2  AQU_2019-01-01_1     0.363059  \n",
       "1  Junior Alvarado   295                   3  AQU_2019-01-01_1     0.211401  \n",
       "2     Jose Lezcano   180                   4  AQU_2019-01-01_1     0.298227  \n",
       "3     Jomar Garcia  1280                   5  AQU_2019-01-01_1     0.060510  \n",
       "4    Manuel Franco  1150                   1  AQU_2019-01-01_1     0.066803  "
      ]
     },
     "execution_count": 53,
     "metadata": {},
     "output_type": "execute_result"
    }
   ],
   "source": [
    "df_start.head()"
   ]
  },
  {
   "cell_type": "code",
   "execution_count": 58,
   "metadata": {},
   "outputs": [],
   "source": [
    "# for track_id in tqdm(track_ids):\n",
    "#     try:\n",
    "#         df_horse_tracking = pd.read_csv(horse_tracking_path + track_id + \".csv\")\n",
    "#         df_horse_tracking = df_horse_tracking.dropna()\n",
    "#         df_horse_tracking = df_horse_tracking.drop_duplicates()\n",
    "#         df_horse_tracking = df_horse_tracking.reset_index(drop=True)\n",
    "#         df_horse_tracking['unique_id'] = track_id\n",
    "#         df_horse_tracking.to_csv(horse_tracking_path + track_id + \".csv\", index=False)\n",
    "#     except FileNotFoundError:\n",
    "#         pass"
   ]
  },
  {
   "cell_type": "code",
   "execution_count": 57,
   "metadata": {},
   "outputs": [],
   "source": [
    "df_start_1 = df_start[df_start['unique_id'] == 'AQU_2019-01-01_1']"
   ]
  },
  {
   "cell_type": "code",
   "execution_count": 63,
   "metadata": {},
   "outputs": [],
   "source": [
    "def get_cumulative_dist_from_transition(track_geometry, transition_index):\n",
    "    distance_in_curve = []\n",
    "    for index in transition_index:\n",
    "        distance_in_curve.append(track_geometry['cumulative_distance'].loc[index])\n",
    "    return distance_in_curve    "
   ]
  },
  {
   "cell_type": "code",
   "execution_count": 65,
   "metadata": {},
   "outputs": [
    {
     "name": "stderr",
     "output_type": "stream",
     "text": [
      "100%|██████████| 1994/1994 [00:09<00:00, 211.83it/s]\n"
     ]
    }
   ],
   "source": [
    "distance_in_curve = {}\n",
    "for track_id, transition_index in tqdm(transition_indices.items()):\n",
    "    try:\n",
    "        track_geometry = pd.read_csv(track_geometry_path + track_id + \".csv\")\n",
    "        distance_in_curve[track_id] = get_cumulative_dist_from_transition(track_geometry, transition_index)\n",
    "    except FileNotFoundError:\n",
    "        pass"
   ]
  },
  {
   "cell_type": "code",
   "execution_count": null,
   "metadata": {},
   "outputs": [],
   "source": [
    "distance_in_curve"
   ]
  },
  {
   "cell_type": "code",
   "execution_count": 68,
   "metadata": {},
   "outputs": [
    {
     "data": {
      "text/plain": [
       "Index(['track_id', 'race_date', 'race_number', 'program_number',\n",
       "       'trakus_index', 'latitude', 'longitude', 'easting', 'northing',\n",
       "       'unique_id', 'cumulative_distance_travelled', 'position',\n",
       "       'distance_to_leader', 'speed_0.25s', 'speed_1s', 'acceleration_0.25s',\n",
       "       'acceleration_1s', 'speed_0.25s_lag1', 'speed_0.25s_lag2',\n",
       "       'speed_0.25s_lag3', 'acceleration_0.25s_lag1',\n",
       "       'acceleration_0.25s_lag2', 'acceleration_0.25s_lag3', 'speed_1s_lag1',\n",
       "       'speed_1s_lag2', 'speed_1s_lag3', 'acceleration_1s_lag1',\n",
       "       'acceleration_1s_lag2', 'acceleration_1s_lag3',\n",
       "       'distance_to_leader_lag1', 'distance_to_leader_lag2',\n",
       "       'distance_to_leader_lag3', 'remaining_distance', 'is_race_going',\n",
       "       'final_positions', 'leader_remaining_distance', 'target_variable'],\n",
       "      dtype='object')"
      ]
     },
     "execution_count": 68,
     "metadata": {},
     "output_type": "execute_result"
    }
   ],
   "source": [
    "df_horse_tracking.columns"
   ]
  },
  {
   "cell_type": "code",
   "execution_count": 79,
   "metadata": {},
   "outputs": [],
   "source": [
    "def add_probability_and_transition(df_horse_tracking, df_start_1, distance_in_curve):\n",
    "    df_horse_tracking_1 = df_horse_tracking.copy()\n",
    "    df_horse_tracking_1['probability'] = 0.0\n",
    "    df_horse_tracking_1['curve'] = 0\n",
    "\n",
    "    for index, row in df_horse_tracking_1.iterrows():\n",
    "        track_id = row['unique_id']\n",
    "        distance = row['cumulative_distance_travelled']\n",
    "        for i in range(len(distance_in_curve[track_id]) - 1):\n",
    "            if distance >= distance_in_curve[track_id][i] and distance <= distance_in_curve[track_id][i + 1]:\n",
    "                df_horse_tracking_1.loc[index, 'curve'] = 1\n",
    "                break \n",
    "        # compare programn number for probability\n",
    "        for i, row_start in df_start_1.iterrows():\n",
    "            if str(row['program_number']).strip() == str(row_start['program_number']).strip():\n",
    "                df_horse_tracking_1.loc[index, 'probability'] = row_start['probability']\n",
    "                break \n",
    "\n",
    "    return df_horse_tracking_1          "
   ]
  },
  {
   "cell_type": "code",
   "execution_count": 80,
   "metadata": {},
   "outputs": [],
   "source": [
    "df_horse_tracking_1 = add_probability_and_transition(df_horse_tracking, df_start_1, distance_in_curve)"
   ]
  },
  {
   "cell_type": "code",
   "execution_count": 84,
   "metadata": {},
   "outputs": [
    {
     "data": {
      "text/plain": [
       "curve\n",
       "0    1099\n",
       "1     481\n",
       "Name: count, dtype: int64"
      ]
     },
     "execution_count": 84,
     "metadata": {},
     "output_type": "execute_result"
    }
   ],
   "source": [
    "df_horse_tracking_1[\"curve\"].value_counts()"
   ]
  },
  {
   "cell_type": "code",
   "execution_count": 85,
   "metadata": {},
   "outputs": [
    {
     "name": "stderr",
     "output_type": "stream",
     "text": [
      "100%|██████████| 2000/2000 [50:21<00:00,  1.51s/it] \n"
     ]
    }
   ],
   "source": [
    "for track_id in tqdm(track_ids):\n",
    "    try:\n",
    "        df_horse_tracking = pd.read_csv(horse_tracking_path + track_id + \".csv\")\n",
    "        df_start_1 = df_start[df_start['unique_id'] == track_id]\n",
    "        df_horse_tracking = add_probability_and_transition(df_horse_tracking, df_start_1, distance_in_curve)\n",
    "        df_horse_tracking.to_csv(horse_tracking_path + track_id + \".csv\", index=False)\n",
    "    except FileNotFoundError:\n",
    "        pass"
   ]
  },
  {
   "cell_type": "code",
   "execution_count": 86,
   "metadata": {},
   "outputs": [],
   "source": [
    "df_horse_tracking = pd.read_csv(horse_tracking_path + \"AQU_2019-01-01_2.csv\")"
   ]
  },
  {
   "cell_type": "code",
   "execution_count": null,
   "metadata": {},
   "outputs": [],
   "source": []
  }
 ],
 "metadata": {
  "kernelspec": {
   "display_name": "Python 3",
   "language": "python",
   "name": "python3"
  },
  "language_info": {
   "codemirror_mode": {
    "name": "ipython",
    "version": 3
   },
   "file_extension": ".py",
   "mimetype": "text/x-python",
   "name": "python",
   "nbconvert_exporter": "python",
   "pygments_lexer": "ipython3",
   "version": "3.9.9"
  },
  "orig_nbformat": 4
 },
 "nbformat": 4,
 "nbformat_minor": 2
}
