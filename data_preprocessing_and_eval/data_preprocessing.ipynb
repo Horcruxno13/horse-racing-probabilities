{
 "cells": [
  {
   "cell_type": "code",
   "execution_count": 1,
   "metadata": {},
   "outputs": [],
   "source": [
    "import pandas as pd\n",
    "import numpy as np\n",
    "import matplotlib.pyplot as plt\n",
    "import seaborn as sns\n",
    "import math\n",
    "import plotly.express as px"
   ]
  },
  {
   "cell_type": "code",
   "execution_count": 2,
   "metadata": {},
   "outputs": [
    {
     "name": "stderr",
     "output_type": "stream",
     "text": [
      "C:\\Users\\Jayesh\\AppData\\Local\\Temp\\ipykernel_11084\\2825125174.py:14: DtypeWarning: Columns (3) have mixed types. Specify dtype option on import or set low_memory=False.\n",
      "  df_tracking = pd.read_csv('my-data\\\\nyra_tracking_table_utm.csv')\n",
      "C:\\Users\\Jayesh\\AppData\\Local\\Temp\\ipykernel_11084\\2825125174.py:15: DtypeWarning: Columns (3) have mixed types. Specify dtype option on import or set low_memory=False.\n",
      "  df_complete = pd.read_csv('big-data-derby-2022\\\\nyra_2019_complete.csv')\n"
     ]
    }
   ],
   "source": [
    "column_names = [\n",
    "    \"track_id\",         # Track ID\n",
    "    \"race_date\",        # Race Date\n",
    "    \"race_number\",      # Race Number\n",
    "    \"program_number\",   # Program Number\n",
    "    \"weight_carried\",   # Weight Carried\n",
    "    \"jockey\",           # Jockey Name\n",
    "    \"odds\",             # Odds\n",
    "    \"position_at_finish\"  # Finish Position\n",
    "]\n",
    "\n",
    "df_start = pd.read_csv(\"big-data-derby-2022\\\\nyra_start_table.csv\", header=None, names=column_names)\n",
    "df_race = pd.read_csv('big-data-derby-2022\\\\nyra_race_table.csv')\n",
    "df_tracking = pd.read_csv('my-data\\\\nyra_tracking_table_utm.csv')\n",
    "df_complete = pd.read_csv('big-data-derby-2022\\\\nyra_2019_complete.csv')"
   ]
  },
  {
   "cell_type": "code",
   "execution_count": 3,
   "metadata": {},
   "outputs": [],
   "source": [
    "# add unique_id \n",
    "df_race['unique_id'] = df_race[\"track_id\"] + \"_\" + df_race[\"race_date\"] + \"_\" + df_race[\"race_number\"].astype(str)\n",
    "df_tracking['unique_id'] = df_tracking[\"track_id\"] + \"_\" + df_tracking['race_date'] + \"_\" + df_tracking['race_number'].astype(str)"
   ]
  },
  {
   "cell_type": "code",
   "execution_count": 4,
   "metadata": {},
   "outputs": [],
   "source": [
    "track_ids = df_race['unique_id'].unique()"
   ]
  },
  {
   "cell_type": "code",
   "execution_count": 5,
   "metadata": {},
   "outputs": [],
   "source": [
    "def generate_track_geometry(df_race_data):\n",
    "    # Group by trakus_index and compute the average easting/northing for the track geometry\n",
    "    track_points = (\n",
    "        df_race_data.groupby('trakus_index')[['easting', 'northing']].mean().reset_index()\n",
    "    )\n",
    "\n",
    "    # Calculate midpoints and perpendicular vectors\n",
    "    midpoints = []\n",
    "    perpendicular_vectors = []\n",
    "\n",
    "    for i in range(len(track_points) - 1):\n",
    "        # Get consecutive points\n",
    "        x1, y1 = track_points.loc[i, ['easting', 'northing']]\n",
    "        x2, y2 = track_points.loc[i + 1, ['easting', 'northing']]\n",
    "\n",
    "        # Calculate midpoint\n",
    "        x_mid = (x1 + x2) / 2\n",
    "        y_mid = (y1 + y2) / 2\n",
    "        midpoints.append((x_mid, y_mid))\n",
    "\n",
    "        # Calculate direction vector\n",
    "        delta_x = x2 - x1\n",
    "        delta_y = y2 - y1\n",
    "\n",
    "        # Calculate perpendicular vector\n",
    "        perp_x = -delta_y\n",
    "        perp_y = delta_x\n",
    "        magnitude = np.sqrt(perp_x**2 + perp_y**2)\n",
    "        perp_vector = (perp_x / magnitude, perp_y / magnitude)  # Normalize\n",
    "        perpendicular_vectors.append(perp_vector)\n",
    "\n",
    "    # Convert to DataFrame for easy use\n",
    "    midpoints_df = pd.DataFrame(midpoints, columns=['mid_easting', 'mid_northing'])\n",
    "    perp_vectors_df = pd.DataFrame(perpendicular_vectors, columns=['perp_x', 'perp_y'])\n",
    "\n",
    "    # Combine midpoints and perpendicular vectors\n",
    "    track_geometry = pd.concat([midpoints_df, perp_vectors_df], axis=1)\n",
    "    return track_geometry"
   ]
  },
  {
   "cell_type": "code",
   "execution_count": 6,
   "metadata": {},
   "outputs": [],
   "source": [
    "# Function to calculate angles between consecutive vectors\n",
    "def calculate_angle(v1, v2):\n",
    "    # Normalize vectors\n",
    "    v1 = v1 / np.linalg.norm(v1)\n",
    "    v2 = v2 / np.linalg.norm(v2)\n",
    "    # Dot product and arccos to calculate angle (in radians)\n",
    "    dot_product = np.dot(v1, v2)\n",
    "    angle = np.arccos(np.clip(dot_product, -1.0, 1.0))  # Clip for numerical stability\n",
    "    return np.degrees(angle)  # Convert to degrees\n",
    "\n",
    "def generate_angles(track_geometry):\n",
    "    # Add angle calculation to the dataframe\n",
    "    angles = []\n",
    "    for i in range(1, len(track_geometry)):\n",
    "        v1 = np.array([track_geometry.loc[i - 1, 'perp_x'], track_geometry.loc[i - 1, 'perp_y']])\n",
    "        v2 = np.array([track_geometry.loc[i, 'perp_x'], track_geometry.loc[i, 'perp_y']])\n",
    "        angle = calculate_angle(v1, v2)\n",
    "        angles.append(angle)\n",
    "\n",
    "    angles.insert(0, 0)  # First row has no angle (NaN equivalent)\n",
    "    track_geometry['angle_change'] = angles\n",
    "    return track_geometry\n",
    "\n",
    "def generate_transition_indices(track_geometry, start_threshold=1, end_threshold=1):\n",
    "    # Detect transitions\n",
    "    in_transition = False\n",
    "    transition_indices = []\n",
    "    for i in range(1, len(track_geometry)):\n",
    "        angle = track_geometry['angle_change'][i]\n",
    "\n",
    "        if angle > start_threshold and not in_transition:\n",
    "            # Transition starts\n",
    "            in_transition = True\n",
    "            transition_indices.append(i)  # Mark start of transition\n",
    "\n",
    "        elif angle < end_threshold and in_transition:\n",
    "            # Transition ends\n",
    "            in_transition = False\n",
    "            transition_indices.append(i)  # Mark end of transition\n",
    "\n",
    "    return transition_indices"
   ]
  },
  {
   "cell_type": "code",
   "execution_count": 122,
   "metadata": {},
   "outputs": [],
   "source": [
    "def calculate_euclidean_distance(p1, p2):\n",
    "    return np.sqrt((p2[0] - p1[0])**2 + (p2[1] - p1[1])**2)\n",
    "\n",
    "def generate_cum_distance(track_geometry):\n",
    "    track_geometry['cumulative_distance'] = 0.0\n",
    "    for i in range(1, len(track_geometry)):\n",
    "        prev_point = (track_geometry.loc[i - 1, 'mid_easting'], track_geometry.loc[i - 1, 'mid_northing'])\n",
    "        curr_point = (track_geometry.loc[i, 'mid_easting'], track_geometry.loc[i, 'mid_northing'])\n",
    "\n",
    "        track_geometry.loc[i, 'cumulative_distance'] = track_geometry.loc[i - 1, 'cumulative_distance'] + \\\n",
    "            calculate_euclidean_distance(prev_point, curr_point)\n",
    "    return track_geometry"
   ]
  },
  {
   "cell_type": "code",
   "execution_count": 89,
   "metadata": {},
   "outputs": [],
   "source": [
    "def calculate_line_equation(mid_easting, mid_northing, perp_x, perp_y):\n",
    "    A = perp_y\n",
    "    B = -perp_x\n",
    "    C = -(A * mid_easting + B * mid_northing)\n",
    "    return A, B, C"
   ]
  },
  {
   "cell_type": "code",
   "execution_count": 90,
   "metadata": {},
   "outputs": [],
   "source": [
    "def point_to_line_distance_and_angle(x, y, A, B, C):\n",
    "    distance = abs(A * x + B * y + C) / math.sqrt(A**2 + B**2)\n",
    "    sign = 1 if A * x + B * y + C >= 0 else -1\n",
    "    # print(f\"Distance {distance} and sign {sign}\")\n",
    "    return distance, sign"
   ]
  },
  {
   "cell_type": "code",
   "execution_count": 91,
   "metadata": {},
   "outputs": [],
   "source": [
    "def add_line_equations(track_geometry):\n",
    "    track_geometry['A'], track_geometry['B'], track_geometry['C'] = zip(*track_geometry.apply(\n",
    "        lambda row: calculate_line_equation(row['mid_easting'], row['mid_northing'], row['perp_x'], row['perp_y']),\n",
    "        axis=1\n",
    "    ))\n",
    "    return track_geometry"
   ]
  },
  {
   "cell_type": "code",
   "execution_count": 92,
   "metadata": {},
   "outputs": [],
   "source": [
    "def add_start_line(track_geometry, horse_tracking_data):\n",
    "    trakus_index = 1\n",
    "    horse_tracking_data_at_1 = horse_tracking_data[horse_tracking_data['trakus_index'] == trakus_index]\n",
    "    max_dist = 0\n",
    "    max_dist_point = None\n",
    "    A, B, C = track_geometry.loc[0, ['A', 'B', 'C']]\n",
    "\n",
    "    for i, row in horse_tracking_data_at_1.iterrows():\n",
    "        horse_pos = (row['easting'], row['northing'])\n",
    "        dist, sign = point_to_line_distance_and_angle(horse_pos[0], horse_pos[1], A, B, C)\n",
    "        if dist > max_dist and sign == -1:\n",
    "            max_dist = dist\n",
    "            max_dist_point = horse_pos\n",
    "    # print(max_dist, max_dist_point)\n",
    "    newA, newB, newC = calculate_line_equation(max_dist_point[0], max_dist_point[1], track_geometry.loc[0, 'perp_x'], track_geometry.loc[0, 'perp_y'])\n",
    "    perp_x = track_geometry.loc[0, 'perp_x']\n",
    "    perp_y = track_geometry.loc[0, 'perp_y']\n",
    "    # add the new line to the track geometry as the first row\n",
    "    track_geometry = pd.concat([pd.DataFrame([[0, 0, perp_x, perp_y, 0, max_dist, newA, newB, newC]], columns=track_geometry.columns), track_geometry], ignore_index=True)\n",
    "    track_geometry['cumulative_distance'] = track_geometry['cumulative_distance'] + track_geometry.loc[0, 'cumulative_distance']\n",
    "    track_geometry.loc[0, 'cumulative_distance'] = 0\n",
    "    return track_geometry"
   ]
  },
  {
   "cell_type": "code",
   "execution_count": 93,
   "metadata": {},
   "outputs": [],
   "source": [
    "def generate_race_ending_index(track_geometry, df_race_details, unique_id):\n",
    "    df_race_details = df_race_details[df_race_details['unique_id'] == unique_id]\n",
    "    furlongs = df_race_details['distance_id'].values[0]\n",
    "    distance = (furlongs/100)*201.168\n",
    "    for i in range(1, len(track_geometry)):\n",
    "        if track_geometry.loc[i, 'cumulative_distance'] > distance:\n",
    "            return i, distance\n",
    "        else:\n",
    "            return len(track_geometry)-1, distance"
   ]
  },
  {
   "cell_type": "code",
   "execution_count": 134,
   "metadata": {},
   "outputs": [],
   "source": [
    "# Function to calculate cumulative distance travelled\n",
    "def calculate_cumulative_distance(horse_tracking_data, track_geometry):\n",
    "    horse_tracking_data['cumulative_distance_travelled'] = 0.0  # Initialize column\n",
    "    \n",
    "    # Group horse data by unique program_number\n",
    "    horse_groups = horse_tracking_data.groupby('program_number')\n",
    "    # print(f\"Processing {len(horse_groups)} unique horses.\")\n",
    "    \n",
    "    for program_number, horse_data in horse_groups:\n",
    "        # print(f\"Processing horse: {program_number}\")\n",
    "        \n",
    "        # Sort horse data by trakus_index\n",
    "        horse_data = horse_data.sort_values(by='trakus_index').reset_index(drop=True)\n",
    "        \n",
    "        last_crossed_index = 0  # Start with the first line\n",
    "        cumulative_distance = 0.0  # Initialize cumulative distance\n",
    "\n",
    "        for i, row in horse_data.iterrows():\n",
    "            horse_pos = (row['easting'], row['northing'])\n",
    "            \n",
    "            # Limit the search to lines from index to index+10\n",
    "            search_start = max(0, last_crossed_index)\n",
    "            search_end = min(len(track_geometry), search_start + 5)\n",
    "            \n",
    "            closest_line_idx = None\n",
    "            closest_distance = float('inf')\n",
    "            closest_sign = 0\n",
    "            \n",
    "            # print(f\"Row {i} calculation\")\n",
    "            # Iterate through the relevant track geometry lines\n",
    "            for j in range(search_start, search_end):\n",
    "                track_row = track_geometry.iloc[j]\n",
    "                A, B, C = track_row['A'], track_row['B'], track_row['C']\n",
    "                # print(f\"Track row {j}\")\n",
    "                dist, sign = point_to_line_distance_and_angle(horse_pos[0], horse_pos[1], A, B, C)\n",
    "                # print(f\"Distance {dist} and {sign}\")\n",
    "                if dist < closest_distance and sign == 1:\n",
    "                    closest_distance = dist\n",
    "                    closest_line_idx = j\n",
    "                    closest_sign = sign\n",
    "                    # print(f\"Closest distance is {closest_distance} at {closest_line_idx} with sign {closest_sign}\")\n",
    "                    \n",
    "            # Use the cumulative distance of the last crossed line from track_geometry\n",
    "            if closest_line_idx:\n",
    "                last_crossed_index = closest_line_idx\n",
    "                cumulative_distance = track_geometry.iloc[last_crossed_index]['cumulative_distance']\n",
    "                total_distance = cumulative_distance + closest_distance\n",
    "            else:\n",
    "                cumulative_distance = track_geometry.iloc[last_crossed_index]['cumulative_distance']\n",
    "                total_distance = cumulative_distance\n",
    "            # print(f\"Total distance is {total_distance} at {last_crossed_index} with distance {closest_distance} with cum dist {cumulative_distance}\")\n",
    "            # Update horse_tracking_data\n",
    "            horse_tracking_data.loc[\n",
    "                (horse_tracking_data['program_number'] == program_number) & \n",
    "                (horse_tracking_data['trakus_index'] == row['trakus_index']),\n",
    "                'cumulative_distance_travelled'\n",
    "            ] = total_distance\n",
    "            # print(f\"Trakus index {row['trakus_index']}: Distance = {total_distance:.2f} meters\")\n",
    "    return horse_tracking_data\n"
   ]
  },
  {
   "cell_type": "code",
   "execution_count": 102,
   "metadata": {},
   "outputs": [],
   "source": [
    "def generate_positions(horse_tracking_data):\n",
    "    horse_tracking_data['position'] = (\n",
    "        horse_tracking_data.groupby('trakus_index')['cumulative_distance_travelled']\n",
    "        .rank(ascending=False, method='first')\n",
    "        .astype(int)\n",
    "    )\n",
    "    return horse_tracking_data"
   ]
  },
  {
   "cell_type": "code",
   "execution_count": 103,
   "metadata": {},
   "outputs": [],
   "source": [
    "def find_finish_line_trakus_index(horse_tracking_data, finish_line_distance):\n",
    "    finish_line_crossings = horse_tracking_data[\n",
    "        horse_tracking_data['cumulative_distance_travelled'] >= finish_line_distance\n",
    "    ]\n",
    "\n",
    "    if not finish_line_crossings.empty:\n",
    "        finish_trakus_index = finish_line_crossings['trakus_index'].min()\n",
    "        return finish_trakus_index\n",
    "    else:\n",
    "        return None "
   ]
  },
  {
   "cell_type": "code",
   "execution_count": 104,
   "metadata": {},
   "outputs": [],
   "source": [
    "def generate_final_positions(horse_tracking_data, finish_trakus_index):\n",
    "    final_positions = horse_tracking_data[horse_tracking_data['trakus_index'] == finish_trakus_index]\n",
    "    final_positions = final_positions.sort_values(by='cumulative_distance_travelled', ascending=False).reset_index(drop=True)\n",
    "    position_dict = {position + 1: row['program_number'] for position, row in final_positions.iterrows()}\n",
    "    return position_dict"
   ]
  },
  {
   "cell_type": "code",
   "execution_count": 191,
   "metadata": {},
   "outputs": [],
   "source": [
    "def generate_final_positions_alternate(horse_tracking_data, race_distance):\n",
    "    \"\"\"\n",
    "    Generate the final positions of horses based on the first trakus index at which they crossed \n",
    "    the finish line. If multiple horses crossed at the same index, use cumulative distance as a tiebreaker.\n",
    "\n",
    "    Args:\n",
    "    horse_tracking_data (DataFrame): A DataFrame containing horse tracking data with columns\n",
    "                                      ['program_number', 'trakus_index', 'cumulative_distance_travelled', 'position'].\n",
    "    race_distance (float): The total race distance.\n",
    "\n",
    "    Returns:\n",
    "    dict: A dictionary mapping final positions (1, 2, 3, ...) to program numbers of the horses.\n",
    "    \"\"\"\n",
    "    # Track the first instance where each horse crosses the finish line\n",
    "    finishers = []\n",
    "    for program_number, horse_data in horse_tracking_data.groupby('program_number'):\n",
    "        # Find the first instance where the horse crosses the finish line\n",
    "        first_crossing = horse_data[horse_data['cumulative_distance_travelled'] >= race_distance].head(1)\n",
    "        if not first_crossing.empty:\n",
    "            finishers.append(first_crossing.iloc[0])\n",
    "\n",
    "    # Convert to DataFrame for sorting\n",
    "    finishers_df = pd.DataFrame(finishers)\n",
    "\n",
    "    # Sort by trakus_index (ascending) and cumulative_distance_travelled (descending for tiebreakers)\n",
    "    finishers_df = finishers_df.sort_values(by=['trakus_index', 'cumulative_distance_travelled'], ascending=[True, False])\n",
    "\n",
    "    # Assign positions based on the sorted order\n",
    "    position_dict = {}\n",
    "    for position, row in enumerate(finishers_df.itertuples(index=False), start=1):\n",
    "        position_dict[position] = row.program_number\n",
    "\n",
    "    return position_dict\n"
   ]
  },
  {
   "cell_type": "code",
   "execution_count": 105,
   "metadata": {},
   "outputs": [],
   "source": [
    "def big_final_function(track_id):\n",
    "    horse_tracking_data = df_tracking[df_tracking['unique_id'] == track_id]\n",
    "    horse_tracking_data = horse_tracking_data.copy()\n",
    "    track_geometry = generate_track_geometry(horse_tracking_data)\n",
    "    track_geometry = generate_angles(track_geometry)\n",
    "    transition_indices = generate_transition_indices(track_geometry)\n",
    "    track_geometry = generate_cum_distance(track_geometry)\n",
    "    track_geometry = add_line_equations(track_geometry)\n",
    "    horse_tracking_data = horse_tracking_data.sort_values(by=['program_number', 'trakus_index']).reset_index(drop=True)\n",
    "    track_geometry = add_start_line(track_geometry, horse_tracking_data)\n",
    "    index, race_distance = generate_race_ending_index(track_geometry, df_race, track_id)\n",
    "    horse_tracking_data = calculate_cumulative_distance(horse_tracking_data, track_geometry)\n",
    "    horse_tracking_data = generate_positions(horse_tracking_data)\n",
    "    finish_trakus_index = find_finish_line_trakus_index(horse_tracking_data, race_distance)\n",
    "    final_positions = generate_final_positions(horse_tracking_data, finish_trakus_index)\n",
    "    return horse_tracking_data, track_geometry, final_positions, transition_indices"
   ]
  },
  {
   "cell_type": "code",
   "execution_count": 192,
   "metadata": {},
   "outputs": [],
   "source": [
    "def calculate_final_positions(track_id, horse_tracking_data, track_geometry, df_race):\n",
    "    distance, race_distance = generate_race_ending_index(track_geometry, df_race, track_id)\n",
    "    # finish_trakus_index = find_finish_line_trakus_index(horse_tracking_data, race_distance)\n",
    "    final_positions = generate_final_positions_alternate(horse_tracking_data, race_distance)\n",
    "    return final_positions"
   ]
  },
  {
   "cell_type": "code",
   "execution_count": 106,
   "metadata": {},
   "outputs": [
    {
     "data": {
      "text/plain": [
       "'AQU_2019-01-01_1'"
      ]
     },
     "execution_count": 106,
     "metadata": {},
     "output_type": "execute_result"
    }
   ],
   "source": [
    "track_ids[0]"
   ]
  },
  {
   "cell_type": "code",
   "execution_count": 111,
   "metadata": {},
   "outputs": [],
   "source": [
    "race_dict = {}\n",
    "\n",
    "for _, row in df_start.iterrows():\n",
    "    # Construct the unique race key\n",
    "    race_key = f\"{row['track_id']}_{row['race_date']}_{row['race_number']}\"\n",
    "    \n",
    "    # Initialize nested dictionary for the race if it doesn't exist\n",
    "    if race_key not in race_dict:\n",
    "        race_dict[race_key] = {}\n",
    "    \n",
    "    # Assign the program number to the position in the race dictionary\n",
    "    race_dict[race_key][row['position_at_finish']] = row['program_number']"
   ]
  },
  {
   "cell_type": "code",
   "execution_count": 112,
   "metadata": {},
   "outputs": [],
   "source": [
    "race_data = []\n",
    "for race_key, positions in race_dict.items():\n",
    "    # Append a dictionary for each race_key with positions as a dictionary of {position: program_number}\n",
    "    race_data.append({'race_key': race_key, 'positions': positions})\n",
    "\n",
    "# Create DataFrame\n",
    "df_race_positions = pd.DataFrame(race_data)"
   ]
  },
  {
   "cell_type": "code",
   "execution_count": 140,
   "metadata": {},
   "outputs": [
    {
     "data": {
      "text/html": [
       "<div>\n",
       "<style scoped>\n",
       "    .dataframe tbody tr th:only-of-type {\n",
       "        vertical-align: middle;\n",
       "    }\n",
       "\n",
       "    .dataframe tbody tr th {\n",
       "        vertical-align: top;\n",
       "    }\n",
       "\n",
       "    .dataframe thead th {\n",
       "        text-align: right;\n",
       "    }\n",
       "</style>\n",
       "<table border=\"1\" class=\"dataframe\">\n",
       "  <thead>\n",
       "    <tr style=\"text-align: right;\">\n",
       "      <th></th>\n",
       "      <th>race_key</th>\n",
       "      <th>positions</th>\n",
       "      <th>calculated_positions</th>\n",
       "    </tr>\n",
       "  </thead>\n",
       "  <tbody>\n",
       "    <tr>\n",
       "      <th>0</th>\n",
       "      <td>AQU_2019-01-01_1</td>\n",
       "      <td>{2: '1  ', 3: '2  ', 4: '3  ', 5: '4  ', 1: '5...</td>\n",
       "      <td>NaN</td>\n",
       "    </tr>\n",
       "    <tr>\n",
       "      <th>1</th>\n",
       "      <td>AQU_2019-01-01_2</td>\n",
       "      <td>{2: '1  ', 7: '2  ', 4: '3  ', 5: '4  ', 3: '5...</td>\n",
       "      <td>6</td>\n",
       "    </tr>\n",
       "    <tr>\n",
       "      <th>2</th>\n",
       "      <td>AQU_2019-01-01_3</td>\n",
       "      <td>{2: '1  ', 8: '2  ', 1: '3  ', 3: '4  ', 7: '5...</td>\n",
       "      <td>3</td>\n",
       "    </tr>\n",
       "    <tr>\n",
       "      <th>3</th>\n",
       "      <td>AQU_2019-01-01_4</td>\n",
       "      <td>{1: '1  ', 4: '1A ', 2: '3  ', 5: '4  ', 6: '5...</td>\n",
       "      <td>6</td>\n",
       "    </tr>\n",
       "    <tr>\n",
       "      <th>4</th>\n",
       "      <td>AQU_2019-01-01_5</td>\n",
       "      <td>{3: '1  ', 6: '2  ', 7: '3  ', 4: '5  ', 1: '6...</td>\n",
       "      <td>5</td>\n",
       "    </tr>\n",
       "  </tbody>\n",
       "</table>\n",
       "</div>"
      ],
      "text/plain": [
       "           race_key                                          positions  \\\n",
       "0  AQU_2019-01-01_1  {2: '1  ', 3: '2  ', 4: '3  ', 5: '4  ', 1: '5...   \n",
       "1  AQU_2019-01-01_2  {2: '1  ', 7: '2  ', 4: '3  ', 5: '4  ', 3: '5...   \n",
       "2  AQU_2019-01-01_3  {2: '1  ', 8: '2  ', 1: '3  ', 3: '4  ', 7: '5...   \n",
       "3  AQU_2019-01-01_4  {1: '1  ', 4: '1A ', 2: '3  ', 5: '4  ', 6: '5...   \n",
       "4  AQU_2019-01-01_5  {3: '1  ', 6: '2  ', 7: '3  ', 4: '5  ', 1: '6...   \n",
       "\n",
       "  calculated_positions  \n",
       "0                  NaN  \n",
       "1                  6    \n",
       "2                  3    \n",
       "3                  6    \n",
       "4                  5    "
      ]
     },
     "execution_count": 140,
     "metadata": {},
     "output_type": "execute_result"
    }
   ],
   "source": [
    "df_race_positions.head()"
   ]
  },
  {
   "cell_type": "code",
   "execution_count": 117,
   "metadata": {},
   "outputs": [],
   "source": [
    "# path to save tracking geometry and horse_tracking_data\n",
    "track_geometry_path = \"my-data\\\\track-geometry\\\\\"\n",
    "horse_tracking_data_path = \"my-data\\\\horse-tracking-data\\\\\""
   ]
  },
  {
   "cell_type": "code",
   "execution_count": 114,
   "metadata": {},
   "outputs": [],
   "source": [
    "from tqdm import tqdm"
   ]
  },
  {
   "cell_type": "code",
   "execution_count": 136,
   "metadata": {},
   "outputs": [
    {
     "data": {
      "text/html": [
       "<div>\n",
       "<style scoped>\n",
       "    .dataframe tbody tr th:only-of-type {\n",
       "        vertical-align: middle;\n",
       "    }\n",
       "\n",
       "    .dataframe tbody tr th {\n",
       "        vertical-align: top;\n",
       "    }\n",
       "\n",
       "    .dataframe thead th {\n",
       "        text-align: right;\n",
       "    }\n",
       "</style>\n",
       "<table border=\"1\" class=\"dataframe\">\n",
       "  <thead>\n",
       "    <tr style=\"text-align: right;\">\n",
       "      <th></th>\n",
       "      <th>race_key</th>\n",
       "      <th>positions</th>\n",
       "      <th>calculated_positions</th>\n",
       "    </tr>\n",
       "  </thead>\n",
       "  <tbody>\n",
       "    <tr>\n",
       "      <th>0</th>\n",
       "      <td>AQU_2019-01-01_1</td>\n",
       "      <td>{2: '1  ', 3: '2  ', 4: '3  ', 5: '4  ', 1: '5...</td>\n",
       "      <td>NaN</td>\n",
       "    </tr>\n",
       "    <tr>\n",
       "      <th>1</th>\n",
       "      <td>AQU_2019-01-01_2</td>\n",
       "      <td>{2: '1  ', 7: '2  ', 4: '3  ', 5: '4  ', 3: '5...</td>\n",
       "      <td>6</td>\n",
       "    </tr>\n",
       "    <tr>\n",
       "      <th>2</th>\n",
       "      <td>AQU_2019-01-01_3</td>\n",
       "      <td>{2: '1  ', 8: '2  ', 1: '3  ', 3: '4  ', 7: '5...</td>\n",
       "      <td>3</td>\n",
       "    </tr>\n",
       "    <tr>\n",
       "      <th>3</th>\n",
       "      <td>AQU_2019-01-01_4</td>\n",
       "      <td>{1: '1  ', 4: '1A ', 2: '3  ', 5: '4  ', 6: '5...</td>\n",
       "      <td>6</td>\n",
       "    </tr>\n",
       "    <tr>\n",
       "      <th>4</th>\n",
       "      <td>AQU_2019-01-01_5</td>\n",
       "      <td>{3: '1  ', 6: '2  ', 7: '3  ', 4: '5  ', 1: '6...</td>\n",
       "      <td>5</td>\n",
       "    </tr>\n",
       "  </tbody>\n",
       "</table>\n",
       "</div>"
      ],
      "text/plain": [
       "           race_key                                          positions  \\\n",
       "0  AQU_2019-01-01_1  {2: '1  ', 3: '2  ', 4: '3  ', 5: '4  ', 1: '5...   \n",
       "1  AQU_2019-01-01_2  {2: '1  ', 7: '2  ', 4: '3  ', 5: '4  ', 3: '5...   \n",
       "2  AQU_2019-01-01_3  {2: '1  ', 8: '2  ', 1: '3  ', 3: '4  ', 7: '5...   \n",
       "3  AQU_2019-01-01_4  {1: '1  ', 4: '1A ', 2: '3  ', 5: '4  ', 6: '5...   \n",
       "4  AQU_2019-01-01_5  {3: '1  ', 6: '2  ', 7: '3  ', 4: '5  ', 1: '6...   \n",
       "\n",
       "  calculated_positions  \n",
       "0                  NaN  \n",
       "1                  6    \n",
       "2                  3    \n",
       "3                  6    \n",
       "4                  5    "
      ]
     },
     "execution_count": 136,
     "metadata": {},
     "output_type": "execute_result"
    }
   ],
   "source": [
    "df_race_positions.head()"
   ]
  },
  {
   "cell_type": "code",
   "execution_count": null,
   "metadata": {},
   "outputs": [],
   "source": [
    "track_geometry_path = \"my-data\\\\track-geometry\\\\\"\n",
    "horse_tracking_data_path = \"my-data\\\\horse-tracking-data\\\\\"\n",
    "\n",
    "transition_indices_dict = {}\n",
    "for i, track_id in tqdm(enumerate(track_ids)):\n",
    "    if i < 1667:\n",
    "        continue\n",
    "    try:\n",
    "        horse_tracking_data, track_geometry, final_positions, transition_indices = big_final_function(track_id)\n",
    "        \n",
    "        if horse_tracking_data is not None and track_geometry is not None:\n",
    "            # Save DataFrames to CSV\n",
    "            track_geometry.to_csv(track_geometry_path + track_id + \".csv\", index=False)\n",
    "            horse_tracking_data.to_csv(horse_tracking_data_path + track_id + \".csv\", index=False)\n",
    "        \n",
    "        if final_positions is not None:\n",
    "            # Update DataFrame with final positions\n",
    "            df_race_positions.loc[df_race_positions['race_key'] == track_id, 'calculated_positions'] = str(final_positions)\n",
    "        \n",
    "        # Store transition indices\n",
    "        transition_indices_dict[track_id] = transition_indices\n",
    "    except:\n",
    "        print(f\"Track ID {track_id} skipped\")\n"
   ]
  },
  {
   "cell_type": "code",
   "execution_count": 139,
   "metadata": {},
   "outputs": [
    {
     "data": {
      "text/html": [
       "<div>\n",
       "<style scoped>\n",
       "    .dataframe tbody tr th:only-of-type {\n",
       "        vertical-align: middle;\n",
       "    }\n",
       "\n",
       "    .dataframe tbody tr th {\n",
       "        vertical-align: top;\n",
       "    }\n",
       "\n",
       "    .dataframe thead th {\n",
       "        text-align: right;\n",
       "    }\n",
       "</style>\n",
       "<table border=\"1\" class=\"dataframe\">\n",
       "  <thead>\n",
       "    <tr style=\"text-align: right;\">\n",
       "      <th></th>\n",
       "      <th>track_id</th>\n",
       "      <th>race_date</th>\n",
       "      <th>race_number</th>\n",
       "      <th>program_number</th>\n",
       "      <th>trakus_index</th>\n",
       "      <th>latitude</th>\n",
       "      <th>longitude</th>\n",
       "      <th>easting</th>\n",
       "      <th>northing</th>\n",
       "      <th>unique_id</th>\n",
       "      <th>cumulative_distance_travelled</th>\n",
       "      <th>position</th>\n",
       "    </tr>\n",
       "  </thead>\n",
       "  <tbody>\n",
       "    <tr>\n",
       "      <th>0</th>\n",
       "      <td>SAR</td>\n",
       "      <td>2019-09-02</td>\n",
       "      <td>11</td>\n",
       "      <td>6</td>\n",
       "      <td>1</td>\n",
       "      <td>43.068787</td>\n",
       "      <td>-73.771810</td>\n",
       "      <td>599996.557709</td>\n",
       "      <td>4.769185e+06</td>\n",
       "      <td>SAR_2019-09-02_11</td>\n",
       "      <td>0.000000</td>\n",
       "      <td>2</td>\n",
       "    </tr>\n",
       "    <tr>\n",
       "      <th>1</th>\n",
       "      <td>SAR</td>\n",
       "      <td>2019-09-02</td>\n",
       "      <td>11</td>\n",
       "      <td>6</td>\n",
       "      <td>2</td>\n",
       "      <td>43.068803</td>\n",
       "      <td>-73.771770</td>\n",
       "      <td>599999.740701</td>\n",
       "      <td>4.769187e+06</td>\n",
       "      <td>SAR_2019-09-02_11</td>\n",
       "      <td>9.701116</td>\n",
       "      <td>3</td>\n",
       "    </tr>\n",
       "    <tr>\n",
       "      <th>2</th>\n",
       "      <td>SAR</td>\n",
       "      <td>2019-09-02</td>\n",
       "      <td>11</td>\n",
       "      <td>6</td>\n",
       "      <td>3</td>\n",
       "      <td>43.068819</td>\n",
       "      <td>-73.771731</td>\n",
       "      <td>600002.869693</td>\n",
       "      <td>4.769189e+06</td>\n",
       "      <td>SAR_2019-09-02_11</td>\n",
       "      <td>13.332005</td>\n",
       "      <td>3</td>\n",
       "    </tr>\n",
       "    <tr>\n",
       "      <th>3</th>\n",
       "      <td>SAR</td>\n",
       "      <td>2019-09-02</td>\n",
       "      <td>11</td>\n",
       "      <td>6</td>\n",
       "      <td>4</td>\n",
       "      <td>43.068835</td>\n",
       "      <td>-73.771695</td>\n",
       "      <td>600005.779780</td>\n",
       "      <td>4.769191e+06</td>\n",
       "      <td>SAR_2019-09-02_11</td>\n",
       "      <td>16.715059</td>\n",
       "      <td>2</td>\n",
       "    </tr>\n",
       "    <tr>\n",
       "      <th>4</th>\n",
       "      <td>SAR</td>\n",
       "      <td>2019-09-02</td>\n",
       "      <td>11</td>\n",
       "      <td>6</td>\n",
       "      <td>5</td>\n",
       "      <td>43.068852</td>\n",
       "      <td>-73.771656</td>\n",
       "      <td>600008.965930</td>\n",
       "      <td>4.769193e+06</td>\n",
       "      <td>SAR_2019-09-02_11</td>\n",
       "      <td>20.444537</td>\n",
       "      <td>2</td>\n",
       "    </tr>\n",
       "  </tbody>\n",
       "</table>\n",
       "</div>"
      ],
      "text/plain": [
       "  track_id   race_date  race_number program_number  trakus_index   latitude  \\\n",
       "0      SAR  2019-09-02           11              6             1  43.068787   \n",
       "1      SAR  2019-09-02           11              6             2  43.068803   \n",
       "2      SAR  2019-09-02           11              6             3  43.068819   \n",
       "3      SAR  2019-09-02           11              6             4  43.068835   \n",
       "4      SAR  2019-09-02           11              6             5  43.068852   \n",
       "\n",
       "   longitude        easting      northing          unique_id  \\\n",
       "0 -73.771810  599996.557709  4.769185e+06  SAR_2019-09-02_11   \n",
       "1 -73.771770  599999.740701  4.769187e+06  SAR_2019-09-02_11   \n",
       "2 -73.771731  600002.869693  4.769189e+06  SAR_2019-09-02_11   \n",
       "3 -73.771695  600005.779780  4.769191e+06  SAR_2019-09-02_11   \n",
       "4 -73.771656  600008.965930  4.769193e+06  SAR_2019-09-02_11   \n",
       "\n",
       "   cumulative_distance_travelled  position  \n",
       "0                       0.000000         2  \n",
       "1                       9.701116         3  \n",
       "2                      13.332005         3  \n",
       "3                      16.715059         2  \n",
       "4                      20.444537         2  "
      ]
     },
     "execution_count": 139,
     "metadata": {},
     "output_type": "execute_result"
    }
   ],
   "source": [
    "horse_tracking_data.head()"
   ]
  },
  {
   "cell_type": "code",
   "execution_count": 193,
   "metadata": {},
   "outputs": [
    {
     "name": "stderr",
     "output_type": "stream",
     "text": [
      "1680it [00:30, 55.54it/s]"
     ]
    },
    {
     "name": "stdout",
     "output_type": "stream",
     "text": [
      "SAR_2019-07-21_2\n"
     ]
    },
    {
     "name": "stderr",
     "output_type": "stream",
     "text": [
      "1687it [00:30, 58.95it/s]"
     ]
    },
    {
     "name": "stdout",
     "output_type": "stream",
     "text": [
      "SAR_2019-07-24_2\n",
      "SAR_2019-07-24_5\n"
     ]
    },
    {
     "name": "stderr",
     "output_type": "stream",
     "text": [
      "1729it [00:31, 53.32it/s]"
     ]
    },
    {
     "name": "stdout",
     "output_type": "stream",
     "text": [
      "SAR_2019-07-28_4\n"
     ]
    },
    {
     "name": "stderr",
     "output_type": "stream",
     "text": [
      "1802it [00:32, 55.15it/s]"
     ]
    },
    {
     "name": "stdout",
     "output_type": "stream",
     "text": [
      "SAR_2019-08-08_4\n"
     ]
    },
    {
     "name": "stderr",
     "output_type": "stream",
     "text": [
      "1869it [00:33, 52.48it/s]"
     ]
    },
    {
     "name": "stdout",
     "output_type": "stream",
     "text": [
      "SAR_2019-08-17_2\n"
     ]
    },
    {
     "name": "stderr",
     "output_type": "stream",
     "text": [
      "2000it [00:36, 54.90it/s]\n"
     ]
    }
   ],
   "source": [
    "dict_of_positions = {}\n",
    "for i, track_id in tqdm(enumerate(track_ids)):\n",
    "    try:\n",
    "        track_geometry = pd.read_csv(track_geometry_path + track_id + \".csv\")\n",
    "        horse_tracking_data = pd.read_csv(horse_tracking_data_path + track_id + \".csv\")\n",
    "        final_positions = calculate_final_positions(track_id, horse_tracking_data, track_geometry, df_race)\n",
    "        dict_of_positions[track_id] = final_positions\n",
    "    except:\n",
    "        print(track_id)"
   ]
  },
  {
   "cell_type": "code",
   "execution_count": null,
   "metadata": {},
   "outputs": [],
   "source": [
    "dict_of_positions"
   ]
  },
  {
   "cell_type": "code",
   "execution_count": 195,
   "metadata": {},
   "outputs": [],
   "source": [
    "df_race_positions['predicted_positions_new_alt'] = df_race_positions['race_key'].map(dict_of_positions)"
   ]
  },
  {
   "cell_type": "code",
   "execution_count": 196,
   "metadata": {},
   "outputs": [
    {
     "data": {
      "text/html": [
       "<div>\n",
       "<style scoped>\n",
       "    .dataframe tbody tr th:only-of-type {\n",
       "        vertical-align: middle;\n",
       "    }\n",
       "\n",
       "    .dataframe tbody tr th {\n",
       "        vertical-align: top;\n",
       "    }\n",
       "\n",
       "    .dataframe thead th {\n",
       "        text-align: right;\n",
       "    }\n",
       "</style>\n",
       "<table border=\"1\" class=\"dataframe\">\n",
       "  <thead>\n",
       "    <tr style=\"text-align: right;\">\n",
       "      <th></th>\n",
       "      <th>race_key</th>\n",
       "      <th>positions</th>\n",
       "      <th>calculated_positions</th>\n",
       "      <th>predicted_positions</th>\n",
       "      <th>predicted_positions_new</th>\n",
       "      <th>predicted_positions_new_alt</th>\n",
       "    </tr>\n",
       "  </thead>\n",
       "  <tbody>\n",
       "    <tr>\n",
       "      <th>0</th>\n",
       "      <td>AQU_2019-01-01_1</td>\n",
       "      <td>{2: '1  ', 3: '2  ', 4: '3  ', 5: '4  ', 1: '5...</td>\n",
       "      <td>NaN</td>\n",
       "      <td>{1: 1, 2: 5, 3: 2, 4: 3, 5: 4}</td>\n",
       "      <td>{1: 1, 3: 2, 4: 3, 5: 4, 2: 5}</td>\n",
       "      <td>{1: 1, 2: 5, 3: 2, 4: 3, 5: 4}</td>\n",
       "    </tr>\n",
       "    <tr>\n",
       "      <th>1</th>\n",
       "      <td>AQU_2019-01-01_2</td>\n",
       "      <td>{2: '1  ', 7: '2  ', 4: '3  ', 5: '4  ', 3: '5...</td>\n",
       "      <td>6</td>\n",
       "      <td>{1: 6, 2: 1, 3: 5, 4: 3, 5: 4, 6: 2, 7: 7}</td>\n",
       "      <td>{2: 1, 7: 2, 4: 3, 5: 4, 3: 5, 1: 6, 6: 7}</td>\n",
       "      <td>{1: 6, 2: 1, 3: 5, 4: 3, 5: 4, 6: 7, 7: 2}</td>\n",
       "    </tr>\n",
       "    <tr>\n",
       "      <th>2</th>\n",
       "      <td>AQU_2019-01-01_3</td>\n",
       "      <td>{2: '1  ', 8: '2  ', 1: '3  ', 3: '4  ', 7: '5...</td>\n",
       "      <td>3</td>\n",
       "      <td>{1: 1, 2: 3, 3: 4, 4: 6, 5: 7, 6: 8, 7: 5, 8: 2}</td>\n",
       "      <td>{1: 1, 8: 2, 2: 3, 3: 4, 7: 5, 4: 6, 5: 7, 6: 8}</td>\n",
       "      <td>{1: 1, 2: 3, 3: 4, 4: 6, 5: 7, 6: 8, 7: 5, 8: 2}</td>\n",
       "    </tr>\n",
       "    <tr>\n",
       "      <th>3</th>\n",
       "      <td>AQU_2019-01-01_4</td>\n",
       "      <td>{1: '1  ', 4: '1A ', 2: '3  ', 5: '4  ', 6: '5...</td>\n",
       "      <td>6</td>\n",
       "      <td>{1: '3  ', 2: '1  ', 3: '6  ', 4: '1A ', 5: '4...</td>\n",
       "      <td>{2: '1  ', 4: '1A ', 1: '3  ', 5: '4  ', 6: '5...</td>\n",
       "      <td>{1: '3  ', 2: '1  ', 3: '6  ', 4: '1A ', 5: '4...</td>\n",
       "    </tr>\n",
       "    <tr>\n",
       "      <th>4</th>\n",
       "      <td>AQU_2019-01-01_5</td>\n",
       "      <td>{3: '1  ', 6: '2  ', 7: '3  ', 4: '5  ', 1: '6...</td>\n",
       "      <td>5</td>\n",
       "      <td>{1: 6, 2: 8, 3: 1, 4: 5, 5: 7, 6: 2, 7: 3}</td>\n",
       "      <td>{3: 1, 6: 2, 7: 3, 4: 5, 1: 6, 5: 7, 2: 8}</td>\n",
       "      <td>{1: 6, 2: 8, 3: 1, 4: 5, 5: 7, 6: 2, 7: 3}</td>\n",
       "    </tr>\n",
       "  </tbody>\n",
       "</table>\n",
       "</div>"
      ],
      "text/plain": [
       "           race_key                                          positions  \\\n",
       "0  AQU_2019-01-01_1  {2: '1  ', 3: '2  ', 4: '3  ', 5: '4  ', 1: '5...   \n",
       "1  AQU_2019-01-01_2  {2: '1  ', 7: '2  ', 4: '3  ', 5: '4  ', 3: '5...   \n",
       "2  AQU_2019-01-01_3  {2: '1  ', 8: '2  ', 1: '3  ', 3: '4  ', 7: '5...   \n",
       "3  AQU_2019-01-01_4  {1: '1  ', 4: '1A ', 2: '3  ', 5: '4  ', 6: '5...   \n",
       "4  AQU_2019-01-01_5  {3: '1  ', 6: '2  ', 7: '3  ', 4: '5  ', 1: '6...   \n",
       "\n",
       "  calculated_positions                                predicted_positions  \\\n",
       "0                  NaN                     {1: 1, 2: 5, 3: 2, 4: 3, 5: 4}   \n",
       "1                  6           {1: 6, 2: 1, 3: 5, 4: 3, 5: 4, 6: 2, 7: 7}   \n",
       "2                  3     {1: 1, 2: 3, 3: 4, 4: 6, 5: 7, 6: 8, 7: 5, 8: 2}   \n",
       "3                  6    {1: '3  ', 2: '1  ', 3: '6  ', 4: '1A ', 5: '4...   \n",
       "4                  5           {1: 6, 2: 8, 3: 1, 4: 5, 5: 7, 6: 2, 7: 3}   \n",
       "\n",
       "                             predicted_positions_new  \\\n",
       "0                     {1: 1, 3: 2, 4: 3, 5: 4, 2: 5}   \n",
       "1         {2: 1, 7: 2, 4: 3, 5: 4, 3: 5, 1: 6, 6: 7}   \n",
       "2   {1: 1, 8: 2, 2: 3, 3: 4, 7: 5, 4: 6, 5: 7, 6: 8}   \n",
       "3  {2: '1  ', 4: '1A ', 1: '3  ', 5: '4  ', 6: '5...   \n",
       "4         {3: 1, 6: 2, 7: 3, 4: 5, 1: 6, 5: 7, 2: 8}   \n",
       "\n",
       "                         predicted_positions_new_alt  \n",
       "0                     {1: 1, 2: 5, 3: 2, 4: 3, 5: 4}  \n",
       "1         {1: 6, 2: 1, 3: 5, 4: 3, 5: 4, 6: 7, 7: 2}  \n",
       "2   {1: 1, 2: 3, 3: 4, 4: 6, 5: 7, 6: 8, 7: 5, 8: 2}  \n",
       "3  {1: '3  ', 2: '1  ', 3: '6  ', 4: '1A ', 5: '4...  \n",
       "4         {1: 6, 2: 8, 3: 1, 4: 5, 5: 7, 6: 2, 7: 3}  "
      ]
     },
     "execution_count": 196,
     "metadata": {},
     "output_type": "execute_result"
    }
   ],
   "source": [
    "df_race_positions.head()"
   ]
  },
  {
   "cell_type": "code",
   "execution_count": 201,
   "metadata": {},
   "outputs": [
    {
     "name": "stdout",
     "output_type": "stream",
     "text": [
      "\n",
      "Total Matches (True): 1595\n",
      "Total Mismatches (False): 399\n"
     ]
    }
   ],
   "source": [
    "match_count = 0\n",
    "mismatch_count = 0\n",
    "\n",
    "# Iterate over each row to compare the actual and predicted positions for the winner (position 1)\n",
    "for index, row in df_race_positions.iterrows():\n",
    "    # Safely extract the program numbers for the winner (position 1) from both positions dictionaries\n",
    "    actual_positions = row['positions']\n",
    "    predicted_positions = row['predicted_positions_new_alt']\n",
    "\n",
    "    # Ensure both are dictionaries before accessing .get()\n",
    "    actual_winner = None\n",
    "    predicted_winner = None\n",
    "\n",
    "    if isinstance(actual_positions, dict):\n",
    "        actual_winner = actual_positions.get(3)\n",
    "    else:\n",
    "        continue\n",
    "    if isinstance(predicted_positions, dict):\n",
    "        predicted_winner = predicted_positions.get(3)\n",
    "    else:\n",
    "        continue\n",
    "\n",
    "    # Ensure both are strings and normalize values by stripping spaces\n",
    "    actual_winner = str(actual_winner).strip() if actual_winner is not None else None\n",
    "    predicted_winner = str(predicted_winner).strip() if predicted_winner is not None else None\n",
    "\n",
    "    # Check if they match and update counters\n",
    "    if actual_winner == predicted_winner:\n",
    "        match_count += 1\n",
    "    else:\n",
    "        mismatch_count += 1\n",
    "\n",
    "# Print final counts of matches and mismatches\n",
    "print(f\"\\nTotal Matches (True): {match_count}\")\n",
    "print(f\"Total Mismatches (False): {mismatch_count}\")"
   ]
  },
  {
   "cell_type": "code",
   "execution_count": 198,
   "metadata": {},
   "outputs": [
    {
     "name": "stdout",
     "output_type": "stream",
     "text": [
      "True Matches: 1846 (92.30%)\n",
      "Mismatches: 148 (7.40%)\n",
      "Mismatches where 2nd Predicted Position Won: 125 (6.25%)\n",
      "Mismatches where 3rd Predicted Position Won: 18 (0.90%)\n",
      "Mismatches where 4th Predicted Position Won: 0 (0.00%)\n"
     ]
    }
   ],
   "source": [
    "# Initialize counters\n",
    "true_matches = 0\n",
    "mismatches = 0\n",
    "second_position_matches = 0\n",
    "third_position_matches = 0\n",
    "fourth_position_matches = 0\n",
    "\n",
    "# Iterate over each row to check for matches and specific position matches in mismatches\n",
    "for index, row in df_race_positions.iterrows():\n",
    "    # Safely extract actual positions and calculated positions\n",
    "    actual_positions = row['positions']\n",
    "    calculated_positions = row['predicted_positions']\n",
    "\n",
    "    # Ensure they are dictionaries\n",
    "    if not isinstance(actual_positions, dict):\n",
    "        actual_positions = {}\n",
    "        continue\n",
    "    if not isinstance(calculated_positions, dict):\n",
    "        calculated_positions = {}\n",
    "        continue\n",
    "\n",
    "    # Extract the program number for the actual winner (position 1)\n",
    "    actual_winner = actual_positions.get(1)\n",
    "    \n",
    "    # Extract the calculated positions\n",
    "    calculated_winner = calculated_positions.get(1)\n",
    "    calculated_second = calculated_positions.get(2)\n",
    "    calculated_third = calculated_positions.get(3)\n",
    "    calculated_fourth = calculated_positions.get(4)\n",
    "\n",
    "    # Normalize values (convert to strings and strip spaces)\n",
    "    actual_winner = str(actual_winner).strip() if actual_winner is not None else None\n",
    "    calculated_winner = str(calculated_winner).strip() if calculated_winner is not None else None\n",
    "    calculated_second = str(calculated_second).strip() if calculated_second is not None else None\n",
    "    calculated_third = str(calculated_third).strip() if calculated_third is not None else None\n",
    "    calculated_fourth = str(calculated_fourth).strip() if calculated_fourth is not None else None\n",
    "\n",
    "    # Check for a match at the first position\n",
    "    if actual_winner == calculated_winner:\n",
    "        true_matches += 1\n",
    "    else:\n",
    "        # Mismatch at the first position\n",
    "        mismatches += 1\n",
    "        \n",
    "        # Check if the actual winner is in the second predicted position\n",
    "        if actual_winner == calculated_second:\n",
    "            second_position_matches += 1\n",
    "        # If not in second, check the third position\n",
    "        elif actual_winner == calculated_third:\n",
    "            third_position_matches += 1\n",
    "        # If not in second or third, check the fourth position\n",
    "        elif actual_winner == calculated_fourth:\n",
    "            fourth_position_matches += 1\n",
    "\n",
    "# Total number of races\n",
    "total_races = len(df_race_positions)\n",
    "\n",
    "# Calculate percentages\n",
    "true_match_percentage = (true_matches / total_races) * 100\n",
    "mismatch_percentage = (mismatches / total_races) * 100\n",
    "second_position_match_percentage = (second_position_matches / total_races) * 100\n",
    "third_position_match_percentage = (third_position_matches / total_races) * 100\n",
    "fourth_position_match_percentage = (fourth_position_matches / total_races) * 100\n",
    "\n",
    "# Display counts and percentages\n",
    "print(f\"True Matches: {true_matches} ({true_match_percentage:.2f}%)\")\n",
    "print(f\"Mismatches: {mismatches} ({mismatch_percentage:.2f}%)\")\n",
    "print(f\"Mismatches where 2nd Predicted Position Won: {second_position_matches} ({second_position_match_percentage:.2f}%)\")\n",
    "print(f\"Mismatches where 3rd Predicted Position Won: {third_position_matches} ({third_position_match_percentage:.2f}%)\")\n",
    "print(f\"Mismatches where 4th Predicted Position Won: {fourth_position_matches} ({fourth_position_match_percentage:.2f}%)\")\n"
   ]
  },
  {
   "cell_type": "code",
   "execution_count": 203,
   "metadata": {},
   "outputs": [],
   "source": [
    "# save the final positions\n",
    "df_race_positions.to_csv(\"my-data\\\\final_positions_predicted.csv\", index=False)"
   ]
  },
  {
   "cell_type": "code",
   "execution_count": 1,
   "metadata": {},
   "outputs": [],
   "source": [
    "# "
   ]
  },
  {
   "cell_type": "code",
   "execution_count": null,
   "metadata": {},
   "outputs": [],
   "source": []
  }
 ],
 "metadata": {
  "kernelspec": {
   "display_name": "Python 3",
   "language": "python",
   "name": "python3"
  },
  "language_info": {
   "codemirror_mode": {
    "name": "ipython",
    "version": 3
   },
   "file_extension": ".py",
   "mimetype": "text/x-python",
   "name": "python",
   "nbconvert_exporter": "python",
   "pygments_lexer": "ipython3",
   "version": "3.9.9"
  },
  "orig_nbformat": 4
 },
 "nbformat": 4,
 "nbformat_minor": 2
}
